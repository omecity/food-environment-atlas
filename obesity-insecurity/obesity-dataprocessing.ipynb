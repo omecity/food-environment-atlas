{
 "cells": [
  {
   "cell_type": "code",
   "execution_count": 184,
   "id": "ea8f1bb3-eb35-4803-a4b1-fb1859405f6e",
   "metadata": {},
   "outputs": [],
   "source": [
    "import pandas as pd\n",
    "import numpy as np\n",
    "import matplotlib.pyplot as plt"
   ]
  },
  {
   "cell_type": "code",
   "execution_count": 208,
   "id": "81494295-291b-4501-b995-265cf92d430b",
   "metadata": {},
   "outputs": [],
   "source": [
    "data_c16 = pd.read_excel('../data/2016 Data Cleaned.xlsx')\n",
    "fea = pd.ExcelFile('../data/FoodEnvironmentAtlas.xls')\n",
    "supp = fea.parse('Supplemental Data - County')\n",
    "pop_16 = supp['Population_Estimate_2016']\n",
    "\n",
    "thx_craig = pd.read_csv('../data/data_train_unscaled.csv')"
   ]
  },
  {
   "cell_type": "code",
   "execution_count": 230,
   "id": "f0f3eeb6-7c18-459c-ac17-daa9b5ec862d",
   "metadata": {},
   "outputs": [],
   "source": [
    "# find index of bedford county in Craig's data\n",
    "bedford_good_data = thx_craig[(thx_craig['County'] == 'Bedford') & (thx_craig['State'] == 'VA')]\n",
    "#bedford_good_data"
   ]
  },
  {
   "cell_type": "code",
   "execution_count": 231,
   "id": "20b1d201-3c7a-41aa-8490-285af4711b0f",
   "metadata": {},
   "outputs": [],
   "source": [
    "# replace Bedford county data with Craig's preprocessing\n",
    "bedford = data_c16[(data_c16[\"County\"]=='Bedford') & (data_c16[\"State\"]== 'VA')]\n",
    "bedford\n",
    "df = data_c16.drop(['County', 'Unnamed: 27', 'Unnamed: 28', 'Variable Code', 'Variable Name'], axis = 1)\n",
    "df.drop(2916, axis = 0, inplace = True)\n",
    "bedford_ind = 2829\n",
    "\n",
    "# find which columns are not in Craig's dataset\n",
    "inconsistent_cols = []\n",
    "for col in df:\n",
    "    if col not in thx_craig.columns:\n",
    "        inconsistent_cols.append(col)\n",
    "\n",
    "consistent_cols = []\n",
    "for col in df:\n",
    "    if col not in inconsistent_cols:\n",
    "        consistent_cols.append(col)\n",
    "\n",
    "# Repalce Bedford county's value with sum of Bedford County and Bedford Town as these are not percentages but totals\n",
    "for col in inconsistent_cols:\n",
    "    df.loc[2829,col] = data_c16.loc[2829, col] + data_c16.loc[bedford_ind, col]\n",
    "\n",
    "# Replace other columns with Craig's recalculated values\n",
    "for col in consistent_cols:\n",
    "    df.loc[2829,col] = thx_craig.loc[766,col]\n",
    "\n",
    "# find county in Wyoming with nan population\n",
    "#data_c16[(data_c16[\"State\"] == 'WY')]"
   ]
  },
  {
   "cell_type": "code",
   "execution_count": 234,
   "id": "7567ba06-60b5-488c-80c8-78b62a9e0800",
   "metadata": {},
   "outputs": [],
   "source": [
    "data = pd.concat([df, pop_16], axis = 1)\n",
    "cols = data.columns[1:-1]\n",
    "states = data[\"State\"].drop_duplicates()\n",
    "states.drop(2916, axis = 0, inplace = True)"
   ]
  },
  {
   "cell_type": "code",
   "execution_count": 235,
   "id": "70eee8a0-4c2c-43f5-a3e6-fd238d3c3123",
   "metadata": {},
   "outputs": [
    {
     "data": {
      "text/plain": [
       "51"
      ]
     },
     "execution_count": 235,
     "metadata": {},
     "output_type": "execute_result"
    }
   ],
   "source": [
    "state_avgs = []\n",
    "\n",
    "#there was no population data for one of the wyoming counties\n",
    "# found this from the US Census Bureau \n",
    "data.loc[3142, 'Population_Estimate_2016'] = 7228\n",
    "\n",
    "# Correct Bedford county's population\n",
    "data.loc[bedford_ind, 'Population_Estimate_2016'] = pop_16.loc[2916] + pop_16.loc[bedford_ind]\n",
    "\n",
    "for state in states:\n",
    "    rows = data[data[\"State\"] == state]\n",
    "    state_avg = np.average(rows[cols], weights = rows['Population_Estimate_2016'], axis = 0)\n",
    "    state_avgs.append(state_avg)\n",
    "len(state_avgs)"
   ]
  },
  {
   "cell_type": "code",
   "execution_count": 236,
   "id": "56ed5f51-3bc3-4d29-903c-5845ed568c7f",
   "metadata": {},
   "outputs": [],
   "source": [
    "state_feats = pd.DataFrame(state_avgs)\n",
    "state_feats.columns = cols\n",
    "state_labs = pd.DataFrame(states)\n",
    "state_labs.set_index(np.arange(0,51), inplace = True)\n",
    "state_data = pd.concat([state_labs, state_feats], axis = 1)"
   ]
  },
  {
   "cell_type": "code",
   "execution_count": 237,
   "id": "9cceb501-1339-4d97-bab4-7f185f44c4d5",
   "metadata": {},
   "outputs": [],
   "source": [
    "state_data.to_csv('../obesity-insecurity/state_data.csv')"
   ]
  },
  {
   "cell_type": "code",
   "execution_count": null,
   "id": "86381f4f-351d-4ec7-b2f7-cbff0e10b5ff",
   "metadata": {},
   "outputs": [],
   "source": []
  }
 ],
 "metadata": {
  "kernelspec": {
   "display_name": "Python 3 (ipykernel)",
   "language": "python",
   "name": "python3"
  },
  "language_info": {
   "codemirror_mode": {
    "name": "ipython",
    "version": 3
   },
   "file_extension": ".py",
   "mimetype": "text/x-python",
   "name": "python",
   "nbconvert_exporter": "python",
   "pygments_lexer": "ipython3",
   "version": "3.11.7"
  }
 },
 "nbformat": 4,
 "nbformat_minor": 5
}
