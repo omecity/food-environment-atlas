{
 "cells": [
  {
   "cell_type": "markdown",
   "metadata": {},
   "source": [
    "### <p style=\"text-align: right;\"> &#9989; Team member names </p>"
   ]
  },
  {
   "cell_type": "markdown",
   "metadata": {},
   "source": [
    "# Project title and description\n",
    "\n",
    "**Lorem Ipsum** is simply dummy text of the printing and typesetting industry. Lorem Ipsum has been the industry's standard dummy text ever since the 1500s, when an unknown printer took a galley of type and scrambled it to make a type specimen book. It has survived not only five centuries, but also the leap into electronic typesetting, remaining essentially unchanged. It was popularised in the 1960s with the release of Letraset sheets containing Lorem Ipsum passages, and more recently with desktop publishing software like Aldus PageMaker including versions of Lorem Ipsum.\n",
    "\n",
    "Contrary to popular belief, **Lorem Ipsum** is not simply random text. It has roots in a piece of classical Latin literature from 45 BC, making it over 2000 years old. Richard McClintock, a Latin professor at Hampden-Sydney College in Virginia, looked up one of the more obscure Latin words, consectetur, from a Lorem Ipsum passage, and going through the cites of the word in classical literature, discovered the undoubtable source. Lorem Ipsum comes from sections 1.10.32 and 1.10.33 of \"de Finibus Bonorum et Malorum\" (The Extremes of Good and Evil) by Cicero, written in 45 BC. This book is a treatise on the theory of ethics, very popular during the Renaissance. The first line of Lorem Ipsum, \"Lorem ipsum dolor sit amet..\", comes from a line in section 1.10.32."
   ]
  },
  {
   "cell_type": "markdown",
   "metadata": {},
   "source": [
    "---\n",
    "#### Importing libraries"
   ]
  },
  {
   "cell_type": "code",
   "execution_count": 1,
   "metadata": {},
   "outputs": [],
   "source": [
    "import pandas as pd"
   ]
  },
  {
   "cell_type": "markdown",
   "metadata": {},
   "source": [
    "#### Download and save file to current directory"
   ]
  },
  {
   "cell_type": "code",
   "execution_count": 2,
   "metadata": {},
   "outputs": [
    {
     "name": "stdout",
     "output_type": "stream",
     "text": [
      "  % Total    % Received % Xferd  Average Speed   Time    Time     Time  Current\n",
      "                                 Dload  Upload   Total   Spent    Left  Speed\n",
      "100 13.7M  100 13.7M    0     0  2592k      0  0:00:05  0:00:05 --:--:-- 3001k\n"
     ]
    }
   ],
   "source": [
    "!curl -o \"FoodEnvironmentAtlas.xls\" https://www.ers.usda.gov/webdocs/DataFiles/80526/FoodEnvironmentAtlas.xls?v=7810.2"
   ]
  },
  {
   "cell_type": "markdown",
   "metadata": {},
   "source": [
    "#### Read downloaded file from its path into a variable - data"
   ]
  },
  {
   "cell_type": "code",
   "execution_count": 3,
   "metadata": {},
   "outputs": [],
   "source": [
    "file = \"./FoodEnvironmentAtlas.xls\"\n",
    "data = pd.ExcelFile(file)"
   ]
  },
  {
   "cell_type": "markdown",
   "metadata": {},
   "source": [
    "#### Read all sheets into a dictionary of dataframes "
   ]
  },
  {
   "cell_type": "code",
   "execution_count": 4,
   "metadata": {},
   "outputs": [],
   "source": [
    "sheet_dict = {sheet_name: data.parse(sheet_name) for sheet_name in data.sheet_names}"
   ]
  },
  {
   "cell_type": "markdown",
   "metadata": {},
   "source": [
    "#### Iterate over all sheets and print the name, number of rows and columns of each sheet"
   ]
  },
  {
   "cell_type": "code",
   "execution_count": 6,
   "metadata": {},
   "outputs": [
    {
     "name": "stdout",
     "output_type": "stream",
     "text": [
      "Sheet Name: Read_Me\n",
      "Number of rows and columns are 17 and 1\n",
      "\n",
      "Sheet Name: Variable List\n",
      "Number of rows and columns are 281 and 7\n",
      "\n",
      "Sheet Name: Supplemental Data - County\n",
      "Number of rows and columns are 3142 and 12\n",
      "\n",
      "Sheet Name: Supplemental Data - State\n",
      "Number of rows and columns are 51 and 44\n",
      "\n",
      "Sheet Name: ACCESS\n",
      "Number of rows and columns are 3143 and 44\n",
      "\n",
      "Sheet Name: STORES\n",
      "Number of rows and columns are 3143 and 39\n",
      "\n",
      "Sheet Name: RESTAURANTS\n",
      "Number of rows and columns are 3143 and 19\n",
      "\n",
      "Sheet Name: ASSISTANCE\n",
      "Number of rows and columns are 3143 and 57\n",
      "\n",
      "Sheet Name: INSECURITY\n",
      "Number of rows and columns are 3143 and 9\n",
      "\n",
      "Sheet Name: TAXES\n",
      "Number of rows and columns are 3143 and 8\n",
      "\n",
      "Sheet Name: LOCAL\n",
      "Number of rows and columns are 3144 and 100\n",
      "\n",
      "Sheet Name: HEALTH\n",
      "Number of rows and columns are 3143 and 14\n",
      "\n",
      "Sheet Name: SOCIOECONOMIC\n",
      "Number of rows and columns are 3143 and 18\n",
      "\n"
     ]
    }
   ],
   "source": [
    "for sheet_name, df in sheet_dict.items():\n",
    "    print(\"Sheet Name: {}\".format(sheet_name.strip()))\n",
    "    rows, columns = df.shape\n",
    "    print(\"Number of rows and columns are {} and {}\".format(rows, columns))\n",
    "    print()"
   ]
  }
 ],
 "metadata": {
  "kernelspec": {
   "display_name": "Python 3.11 (default)",
   "language": "python",
   "name": "python3"
  },
  "language_info": {
   "codemirror_mode": {
    "name": "ipython",
    "version": 3
   },
   "file_extension": ".py",
   "mimetype": "text/x-python",
   "name": "python",
   "nbconvert_exporter": "python",
   "pygments_lexer": "ipython3",
   "version": "3.11.9"
  }
 },
 "nbformat": 4,
 "nbformat_minor": 4
}
