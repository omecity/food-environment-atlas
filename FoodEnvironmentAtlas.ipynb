{
 "cells": [
  {
   "cell_type": "markdown",
   "metadata": {},
   "source": [
    "### <p style=\"text-align: right;\"> &#9989; Team member names </p>"
   ]
  },
  {
   "cell_type": "markdown",
   "metadata": {},
   "source": [
    "# Project title and description\n",
    "\n",
    "**Lorem Ipsum** is simply dummy text of the printing and typesetting industry. Lorem Ipsum has been the industry's standard dummy text ever since the 1500s, when an unknown printer took a galley of type and scrambled it to make a type specimen book. It has survived not only five centuries, but also the leap into electronic typesetting, remaining essentially unchanged. It was popularised in the 1960s with the release of Letraset sheets containing Lorem Ipsum passages, and more recently with desktop publishing software like Aldus PageMaker including versions of Lorem Ipsum.\n",
    "\n",
    "Contrary to popular belief, **Lorem Ipsum** is not simply random text. It has roots in a piece of classical Latin literature from 45 BC, making it over 2000 years old. Richard McClintock, a Latin professor at Hampden-Sydney College in Virginia, looked up one of the more obscure Latin words, consectetur, from a Lorem Ipsum passage, and going through the cites of the word in classical literature, discovered the undoubtable source. Lorem Ipsum comes from sections 1.10.32 and 1.10.33 of \"de Finibus Bonorum et Malorum\" (The Extremes of Good and Evil) by Cicero, written in 45 BC. This book is a treatise on the theory of ethics, very popular during the Renaissance. The first line of Lorem Ipsum, \"Lorem ipsum dolor sit amet..\", comes from a line in section 1.10.32."
   ]
  },
  {
   "cell_type": "markdown",
   "metadata": {},
   "source": [
    "---\n",
    "#### Importing libraries"
   ]
  },
  {
   "cell_type": "code",
   "execution_count": 1,
   "metadata": {},
   "outputs": [],
   "source": [
    "import pandas as pd"
   ]
  },
  {
   "cell_type": "markdown",
   "metadata": {},
   "source": [
    "#### Download and save file to current directory"
   ]
  },
  {
   "cell_type": "code",
   "execution_count": 2,
   "metadata": {},
   "outputs": [
    {
     "name": "stdout",
     "output_type": "stream",
     "text": [
      "  % Total    % Received % Xferd  Average Speed   Time    Time     Time  Current\n",
      "                                 Dload  Upload   Total   Spent    Left  Speed\n",
      "100 13.7M  100 13.7M    0     0  2592k      0  0:00:05  0:00:05 --:--:-- 3001k\n"
     ]
    }
   ],
   "source": [
    "!curl -o \"FoodEnvironmentAtlas.xls\" https://www.ers.usda.gov/webdocs/DataFiles/80526/FoodEnvironmentAtlas.xls?v=7810.2"
   ]
  },
  {
   "cell_type": "markdown",
   "metadata": {},
   "source": [
    "#### Read downloaded file from its path into a variable - data"
   ]
  },
  {
   "cell_type": "code",
   "execution_count": 2,
   "metadata": {},
   "outputs": [],
   "source": [
    "file = \"./FoodEnvironmentAtlas.xls\"\n",
    "data = pd.ExcelFile(file)"
   ]
  },
  {
   "cell_type": "markdown",
   "metadata": {},
   "source": [
    "#### Read all sheets into a dictionary of dataframes "
   ]
  },
  {
   "cell_type": "code",
   "execution_count": 3,
   "metadata": {},
   "outputs": [],
   "source": [
    "sheet_dict = {sheet_name: data.parse(sheet_name) for sheet_name in data.sheet_names}"
   ]
  },
  {
   "cell_type": "markdown",
   "metadata": {},
   "source": [
    "#### Iterate over all sheets and print the name, number of rows and columns of each sheet"
   ]
  },
  {
   "cell_type": "code",
   "execution_count": 11,
   "metadata": {},
   "outputs": [
    {
     "name": "stdout",
     "output_type": "stream",
     "text": [
      "Sheet Name: Read_Me\n",
      "Number of rows and columns are 17 and 1\n",
      "\n",
      "Sheet Name: Variable List\n",
      "Number of rows and columns are 281 and 7\n",
      "\n",
      "Sheet Name: Supplemental Data - County\n",
      "Number of rows and columns are 3142 and 12\n",
      "\n",
      "Sheet Name: Supplemental Data - State\n",
      "Number of rows and columns are 51 and 44\n",
      "\n",
      "Sheet Name: ACCESS\n",
      "Number of rows and columns are 3143 and 44\n",
      "\n",
      "Sheet Name: STORES\n",
      "Number of rows and columns are 3143 and 39\n",
      "\n",
      "Sheet Name: RESTAURANTS\n",
      "Number of rows and columns are 3143 and 19\n",
      "\n",
      "Sheet Name: ASSISTANCE\n",
      "Number of rows and columns are 3143 and 57\n",
      "\n",
      "Sheet Name: INSECURITY\n",
      "Number of rows and columns are 3143 and 9\n",
      "\n",
      "Sheet Name: TAXES\n",
      "Number of rows and columns are 3143 and 8\n",
      "\n",
      "Sheet Name: LOCAL\n",
      "Number of rows and columns are 3144 and 100\n",
      "\n",
      "Sheet Name: HEALTH\n",
      "Number of rows and columns are 3143 and 14\n",
      "\n",
      "Sheet Name: SOCIOECONOMIC\n",
      "Number of rows and columns are 3143 and 18\n",
      "\n"
     ]
    }
   ],
   "source": [
    "for sheet_name, df in sheet_dict.items():\n",
    "    print(\"Sheet Name: {}\".format(sheet_name.strip()))\n",
    "    rows, columns = df.shape\n",
    "    print(\"Number of rows and columns are {} and {}\".format(rows, columns))\n",
    "    print()"
   ]
  },
  {
   "cell_type": "markdown",
   "metadata": {},
   "source": [
    "#### Extract the store availability variables "
   ]
  },
  {
   "cell_type": "code",
   "execution_count": 12,
   "metadata": {},
   "outputs": [],
   "source": [
    "store_availability = sheet_dict['STORES']"
   ]
  },
  {
   "cell_type": "markdown",
   "metadata": {},
   "source": [
    "---\n",
    "## Exploration Data Analysis (EDA)"
   ]
  },
  {
   "cell_type": "markdown",
   "metadata": {},
   "source": [
    "#### Check the dimension of the data set"
   ]
  },
  {
   "cell_type": "code",
   "execution_count": 14,
   "metadata": {},
   "outputs": [
    {
     "name": "stdout",
     "output_type": "stream",
     "text": [
      "Number of rows and columns are 3143 and 39\n"
     ]
    }
   ],
   "source": [
    "row, columns = store_availability.shape\n",
    "print(\"Number of rows and columns are {} and {}\".format(rows, columns))"
   ]
  },
  {
   "cell_type": "code",
   "execution_count": 22,
   "metadata": {},
   "outputs": [
    {
     "data": {
      "text/html": [
       "<div>\n",
       "<style scoped>\n",
       "    .dataframe tbody tr th:only-of-type {\n",
       "        vertical-align: middle;\n",
       "    }\n",
       "\n",
       "    .dataframe tbody tr th {\n",
       "        vertical-align: top;\n",
       "    }\n",
       "\n",
       "    .dataframe thead th {\n",
       "        text-align: right;\n",
       "    }\n",
       "</style>\n",
       "<table border=\"1\" class=\"dataframe\">\n",
       "  <thead>\n",
       "    <tr style=\"text-align: right;\">\n",
       "      <th></th>\n",
       "      <th>FIPS</th>\n",
       "      <th>State</th>\n",
       "      <th>County</th>\n",
       "      <th>GROC11</th>\n",
       "      <th>GROC16</th>\n",
       "      <th>PCH_GROC_11_16</th>\n",
       "      <th>GROCPTH11</th>\n",
       "      <th>GROCPTH16</th>\n",
       "      <th>PCH_GROCPTH_11_16</th>\n",
       "      <th>SUPERC11</th>\n",
       "      <th>...</th>\n",
       "      <th>PCH_SNAPS_12_17</th>\n",
       "      <th>SNAPSPTH12</th>\n",
       "      <th>SNAPSPTH17</th>\n",
       "      <th>PCH_SNAPSPTH_12_17</th>\n",
       "      <th>WICS11</th>\n",
       "      <th>WICS16</th>\n",
       "      <th>PCH_WICS_11_16</th>\n",
       "      <th>WICSPTH11</th>\n",
       "      <th>WICSPTH16</th>\n",
       "      <th>PCH_WICSPTH_11_16</th>\n",
       "    </tr>\n",
       "  </thead>\n",
       "  <tbody>\n",
       "    <tr>\n",
       "      <th>0</th>\n",
       "      <td>1001</td>\n",
       "      <td>AL</td>\n",
       "      <td>Autauga</td>\n",
       "      <td>5</td>\n",
       "      <td>3</td>\n",
       "      <td>-40.000000</td>\n",
       "      <td>0.090581</td>\n",
       "      <td>0.054271</td>\n",
       "      <td>-40.085748</td>\n",
       "      <td>1</td>\n",
       "      <td>...</td>\n",
       "      <td>19.376392</td>\n",
       "      <td>0.674004</td>\n",
       "      <td>0.804747</td>\n",
       "      <td>19.397900</td>\n",
       "      <td>5.0</td>\n",
       "      <td>5.0</td>\n",
       "      <td>0.000000</td>\n",
       "      <td>0.090567</td>\n",
       "      <td>0.090511</td>\n",
       "      <td>-0.061543</td>\n",
       "    </tr>\n",
       "    <tr>\n",
       "      <th>1</th>\n",
       "      <td>1003</td>\n",
       "      <td>AL</td>\n",
       "      <td>Baldwin</td>\n",
       "      <td>27</td>\n",
       "      <td>29</td>\n",
       "      <td>7.407407</td>\n",
       "      <td>0.144746</td>\n",
       "      <td>0.139753</td>\n",
       "      <td>-3.449328</td>\n",
       "      <td>6</td>\n",
       "      <td>...</td>\n",
       "      <td>36.927711</td>\n",
       "      <td>0.725055</td>\n",
       "      <td>0.890836</td>\n",
       "      <td>22.864524</td>\n",
       "      <td>26.0</td>\n",
       "      <td>28.0</td>\n",
       "      <td>7.692307</td>\n",
       "      <td>0.139380</td>\n",
       "      <td>0.134802</td>\n",
       "      <td>-3.284727</td>\n",
       "    </tr>\n",
       "    <tr>\n",
       "      <th>2</th>\n",
       "      <td>1005</td>\n",
       "      <td>AL</td>\n",
       "      <td>Barbour</td>\n",
       "      <td>6</td>\n",
       "      <td>4</td>\n",
       "      <td>-33.333333</td>\n",
       "      <td>0.219370</td>\n",
       "      <td>0.155195</td>\n",
       "      <td>-29.254287</td>\n",
       "      <td>0</td>\n",
       "      <td>...</td>\n",
       "      <td>3.349282</td>\n",
       "      <td>1.280590</td>\n",
       "      <td>1.424614</td>\n",
       "      <td>11.246689</td>\n",
       "      <td>7.0</td>\n",
       "      <td>6.0</td>\n",
       "      <td>-14.285714</td>\n",
       "      <td>0.255942</td>\n",
       "      <td>0.232387</td>\n",
       "      <td>-9.203081</td>\n",
       "    </tr>\n",
       "    <tr>\n",
       "      <th>3</th>\n",
       "      <td>1007</td>\n",
       "      <td>AL</td>\n",
       "      <td>Bibb</td>\n",
       "      <td>6</td>\n",
       "      <td>5</td>\n",
       "      <td>-16.666667</td>\n",
       "      <td>0.263794</td>\n",
       "      <td>0.220916</td>\n",
       "      <td>-16.254289</td>\n",
       "      <td>1</td>\n",
       "      <td>...</td>\n",
       "      <td>11.794872</td>\n",
       "      <td>0.719122</td>\n",
       "      <td>0.801423</td>\n",
       "      <td>11.444711</td>\n",
       "      <td>6.0</td>\n",
       "      <td>5.0</td>\n",
       "      <td>-16.666666</td>\n",
       "      <td>0.263771</td>\n",
       "      <td>0.221474</td>\n",
       "      <td>-16.035471</td>\n",
       "    </tr>\n",
       "    <tr>\n",
       "      <th>4</th>\n",
       "      <td>1009</td>\n",
       "      <td>AL</td>\n",
       "      <td>Blount</td>\n",
       "      <td>7</td>\n",
       "      <td>5</td>\n",
       "      <td>-28.571429</td>\n",
       "      <td>0.121608</td>\n",
       "      <td>0.086863</td>\n",
       "      <td>-28.571429</td>\n",
       "      <td>1</td>\n",
       "      <td>...</td>\n",
       "      <td>5.701754</td>\n",
       "      <td>0.657144</td>\n",
       "      <td>0.692374</td>\n",
       "      <td>5.361034</td>\n",
       "      <td>8.0</td>\n",
       "      <td>8.0</td>\n",
       "      <td>0.000000</td>\n",
       "      <td>0.139000</td>\n",
       "      <td>0.139089</td>\n",
       "      <td>0.064332</td>\n",
       "    </tr>\n",
       "  </tbody>\n",
       "</table>\n",
       "<p>5 rows × 39 columns</p>\n",
       "</div>"
      ],
      "text/plain": [
       "   FIPS State   County  GROC11  GROC16  PCH_GROC_11_16  GROCPTH11  GROCPTH16  \\\n",
       "0  1001    AL  Autauga       5       3      -40.000000   0.090581   0.054271   \n",
       "1  1003    AL  Baldwin      27      29        7.407407   0.144746   0.139753   \n",
       "2  1005    AL  Barbour       6       4      -33.333333   0.219370   0.155195   \n",
       "3  1007    AL     Bibb       6       5      -16.666667   0.263794   0.220916   \n",
       "4  1009    AL   Blount       7       5      -28.571429   0.121608   0.086863   \n",
       "\n",
       "   PCH_GROCPTH_11_16  SUPERC11  ...  PCH_SNAPS_12_17  SNAPSPTH12  SNAPSPTH17  \\\n",
       "0         -40.085748         1  ...        19.376392    0.674004    0.804747   \n",
       "1          -3.449328         6  ...        36.927711    0.725055    0.890836   \n",
       "2         -29.254287         0  ...         3.349282    1.280590    1.424614   \n",
       "3         -16.254289         1  ...        11.794872    0.719122    0.801423   \n",
       "4         -28.571429         1  ...         5.701754    0.657144    0.692374   \n",
       "\n",
       "   PCH_SNAPSPTH_12_17  WICS11  WICS16  PCH_WICS_11_16  WICSPTH11  WICSPTH16  \\\n",
       "0           19.397900     5.0     5.0        0.000000   0.090567   0.090511   \n",
       "1           22.864524    26.0    28.0        7.692307   0.139380   0.134802   \n",
       "2           11.246689     7.0     6.0      -14.285714   0.255942   0.232387   \n",
       "3           11.444711     6.0     5.0      -16.666666   0.263771   0.221474   \n",
       "4            5.361034     8.0     8.0        0.000000   0.139000   0.139089   \n",
       "\n",
       "   PCH_WICSPTH_11_16  \n",
       "0          -0.061543  \n",
       "1          -3.284727  \n",
       "2          -9.203081  \n",
       "3         -16.035471  \n",
       "4           0.064332  \n",
       "\n",
       "[5 rows x 39 columns]"
      ]
     },
     "execution_count": 22,
     "metadata": {},
     "output_type": "execute_result"
    }
   ],
   "source": [
    "store_availability.head()"
   ]
  },
  {
   "cell_type": "markdown",
   "metadata": {},
   "source": [
    "*The dimension of the data is **3143** by **39**; the variable names are consistent with the descrption in the variable list sheet. The first few rows indicates I have the right data.*"
   ]
  },
  {
   "cell_type": "code",
   "execution_count": 31,
   "metadata": {},
   "outputs": [
    {
     "data": {
      "text/plain": [
       "FIPS                     0\n",
       "State                    0\n",
       "County                   0\n",
       "GROC11                   0\n",
       "GROC16                   0\n",
       "PCH_GROC_11_16          21\n",
       "GROCPTH11                0\n",
       "GROCPTH16                0\n",
       "PCH_GROCPTH_11_16       16\n",
       "SUPERC11                 0\n",
       "SUPERC16                 0\n",
       "PCH_SUPERC_11_16       133\n",
       "SUPERCPTH11              0\n",
       "SUPERCPTH16              0\n",
       "PCH_SUPERCPTH_11_16    132\n",
       "CONVS11                  0\n",
       "CONVS16                  0\n",
       "PCH_CONVS_11_16         26\n",
       "CONVSPTH11               0\n",
       "CONVSPTH16               0\n",
       "PCH_CONVSPTH_11_16      21\n",
       "SPECS11                  0\n",
       "SPECS16                  0\n",
       "PCH_SPECS_11_16        250\n",
       "SPECSPTH11               0\n",
       "SPECSPTH16               0\n",
       "PCH_SPECSPTH_11_16     247\n",
       "SNAPS12                  0\n",
       "SNAPS17                 26\n",
       "PCH_SNAPS_12_17         32\n",
       "SNAPSPTH12               0\n",
       "SNAPSPTH17              27\n",
       "PCH_SNAPSPTH_12_17      33\n",
       "WICS11                 132\n",
       "WICS16                 158\n",
       "PCH_WICS_11_16         159\n",
       "WICSPTH11              135\n",
       "WICSPTH16              161\n",
       "PCH_WICSPTH_11_16      162\n",
       "dtype: int64"
      ]
     },
     "execution_count": 31,
     "metadata": {},
     "output_type": "execute_result"
    }
   ],
   "source": [
    "store_availability.isna().sum()"
   ]
  }
 ],
 "metadata": {
  "kernelspec": {
   "display_name": "Python 3.11 (default)",
   "language": "python",
   "name": "python3"
  },
  "language_info": {
   "codemirror_mode": {
    "name": "ipython",
    "version": 3
   },
   "file_extension": ".py",
   "mimetype": "text/x-python",
   "name": "python",
   "nbconvert_exporter": "python",
   "pygments_lexer": "ipython3",
   "version": "3.11.9"
  }
 },
 "nbformat": 4,
 "nbformat_minor": 4
}
