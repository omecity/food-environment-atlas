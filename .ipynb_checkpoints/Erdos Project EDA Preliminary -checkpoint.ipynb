{
 "cells": [
  {
   "cell_type": "code",
   "execution_count": 1,
   "id": "f439a865",
   "metadata": {},
   "outputs": [],
   "source": [
    "import pandas as pd\n",
    "import numpy as np\n",
    "import matplotlib.pyplot as plt\n",
    "import seaborn as sns\n",
    "%matplotlib inline\n",
    "# import yfinance as yf\n",
    "import plotly.offline as py        \n",
    "import plotly.graph_objs as go       \n",
    "import plotly.express as px\n",
    "import plotly.io as pio\n",
    "import plotly.graph_objects as go\n",
    "from plotly.subplots import make_subplots\n",
    "pio.renderers.default = \"browser\""
   ]
  },
  {
   "cell_type": "code",
   "execution_count": 4,
   "id": "23729c23",
   "metadata": {},
   "outputs": [
    {
     "ename": "FileNotFoundError",
     "evalue": "[Errno 2] No such file or directory: 'State_Obese.xlsx'",
     "output_type": "error",
     "traceback": [
      "\u001b[1;31m---------------------------------------------------------------------------\u001b[0m",
      "\u001b[1;31mFileNotFoundError\u001b[0m                         Traceback (most recent call last)",
      "Cell \u001b[1;32mIn[4], line 2\u001b[0m\n\u001b[0;32m      1\u001b[0m df \u001b[38;5;241m=\u001b[39m pd\u001b[38;5;241m.\u001b[39mread_excel(\u001b[38;5;124m'\u001b[39m\u001b[38;5;124mdata/Erdos project dataset 2017.xlsx\u001b[39m\u001b[38;5;124m'\u001b[39m)\n\u001b[1;32m----> 2\u001b[0m df_obese \u001b[38;5;241m=\u001b[39m pd\u001b[38;5;241m.\u001b[39mread_excel(\u001b[38;5;124m'\u001b[39m\u001b[38;5;124mState_Obese.xlsx\u001b[39m\u001b[38;5;124m'\u001b[39m)\n\u001b[0;32m      3\u001b[0m df\u001b[38;5;241m.\u001b[39mhead()\n",
      "File \u001b[1;32m~\\anaconda3\\envs\\erdosinstitute\\Lib\\site-packages\\pandas\\util\\_decorators.py:211\u001b[0m, in \u001b[0;36mdeprecate_kwarg.<locals>._deprecate_kwarg.<locals>.wrapper\u001b[1;34m(*args, **kwargs)\u001b[0m\n\u001b[0;32m    209\u001b[0m     \u001b[38;5;28;01melse\u001b[39;00m:\n\u001b[0;32m    210\u001b[0m         kwargs[new_arg_name] \u001b[38;5;241m=\u001b[39m new_arg_value\n\u001b[1;32m--> 211\u001b[0m \u001b[38;5;28;01mreturn\u001b[39;00m func(\u001b[38;5;241m*\u001b[39margs, \u001b[38;5;241m*\u001b[39m\u001b[38;5;241m*\u001b[39mkwargs)\n",
      "File \u001b[1;32m~\\anaconda3\\envs\\erdosinstitute\\Lib\\site-packages\\pandas\\util\\_decorators.py:331\u001b[0m, in \u001b[0;36mdeprecate_nonkeyword_arguments.<locals>.decorate.<locals>.wrapper\u001b[1;34m(*args, **kwargs)\u001b[0m\n\u001b[0;32m    325\u001b[0m \u001b[38;5;28;01mif\u001b[39;00m \u001b[38;5;28mlen\u001b[39m(args) \u001b[38;5;241m>\u001b[39m num_allow_args:\n\u001b[0;32m    326\u001b[0m     warnings\u001b[38;5;241m.\u001b[39mwarn(\n\u001b[0;32m    327\u001b[0m         msg\u001b[38;5;241m.\u001b[39mformat(arguments\u001b[38;5;241m=\u001b[39m_format_argument_list(allow_args)),\n\u001b[0;32m    328\u001b[0m         \u001b[38;5;167;01mFutureWarning\u001b[39;00m,\n\u001b[0;32m    329\u001b[0m         stacklevel\u001b[38;5;241m=\u001b[39mfind_stack_level(),\n\u001b[0;32m    330\u001b[0m     )\n\u001b[1;32m--> 331\u001b[0m \u001b[38;5;28;01mreturn\u001b[39;00m func(\u001b[38;5;241m*\u001b[39margs, \u001b[38;5;241m*\u001b[39m\u001b[38;5;241m*\u001b[39mkwargs)\n",
      "File \u001b[1;32m~\\anaconda3\\envs\\erdosinstitute\\Lib\\site-packages\\pandas\\io\\excel\\_base.py:482\u001b[0m, in \u001b[0;36mread_excel\u001b[1;34m(io, sheet_name, header, names, index_col, usecols, squeeze, dtype, engine, converters, true_values, false_values, skiprows, nrows, na_values, keep_default_na, na_filter, verbose, parse_dates, date_parser, thousands, decimal, comment, skipfooter, convert_float, mangle_dupe_cols, storage_options)\u001b[0m\n\u001b[0;32m    480\u001b[0m \u001b[38;5;28;01mif\u001b[39;00m \u001b[38;5;129;01mnot\u001b[39;00m \u001b[38;5;28misinstance\u001b[39m(io, ExcelFile):\n\u001b[0;32m    481\u001b[0m     should_close \u001b[38;5;241m=\u001b[39m \u001b[38;5;28;01mTrue\u001b[39;00m\n\u001b[1;32m--> 482\u001b[0m     io \u001b[38;5;241m=\u001b[39m ExcelFile(io, storage_options\u001b[38;5;241m=\u001b[39mstorage_options, engine\u001b[38;5;241m=\u001b[39mengine)\n\u001b[0;32m    483\u001b[0m \u001b[38;5;28;01melif\u001b[39;00m engine \u001b[38;5;129;01mand\u001b[39;00m engine \u001b[38;5;241m!=\u001b[39m io\u001b[38;5;241m.\u001b[39mengine:\n\u001b[0;32m    484\u001b[0m     \u001b[38;5;28;01mraise\u001b[39;00m \u001b[38;5;167;01mValueError\u001b[39;00m(\n\u001b[0;32m    485\u001b[0m         \u001b[38;5;124m\"\u001b[39m\u001b[38;5;124mEngine should not be specified when passing \u001b[39m\u001b[38;5;124m\"\u001b[39m\n\u001b[0;32m    486\u001b[0m         \u001b[38;5;124m\"\u001b[39m\u001b[38;5;124man ExcelFile - ExcelFile already has the engine set\u001b[39m\u001b[38;5;124m\"\u001b[39m\n\u001b[0;32m    487\u001b[0m     )\n",
      "File \u001b[1;32m~\\anaconda3\\envs\\erdosinstitute\\Lib\\site-packages\\pandas\\io\\excel\\_base.py:1652\u001b[0m, in \u001b[0;36mExcelFile.__init__\u001b[1;34m(self, path_or_buffer, engine, storage_options)\u001b[0m\n\u001b[0;32m   1650\u001b[0m     ext \u001b[38;5;241m=\u001b[39m \u001b[38;5;124m\"\u001b[39m\u001b[38;5;124mxls\u001b[39m\u001b[38;5;124m\"\u001b[39m\n\u001b[0;32m   1651\u001b[0m \u001b[38;5;28;01melse\u001b[39;00m:\n\u001b[1;32m-> 1652\u001b[0m     ext \u001b[38;5;241m=\u001b[39m inspect_excel_format(\n\u001b[0;32m   1653\u001b[0m         content_or_path\u001b[38;5;241m=\u001b[39mpath_or_buffer, storage_options\u001b[38;5;241m=\u001b[39mstorage_options\n\u001b[0;32m   1654\u001b[0m     )\n\u001b[0;32m   1655\u001b[0m     \u001b[38;5;28;01mif\u001b[39;00m ext \u001b[38;5;129;01mis\u001b[39;00m \u001b[38;5;28;01mNone\u001b[39;00m:\n\u001b[0;32m   1656\u001b[0m         \u001b[38;5;28;01mraise\u001b[39;00m \u001b[38;5;167;01mValueError\u001b[39;00m(\n\u001b[0;32m   1657\u001b[0m             \u001b[38;5;124m\"\u001b[39m\u001b[38;5;124mExcel file format cannot be determined, you must specify \u001b[39m\u001b[38;5;124m\"\u001b[39m\n\u001b[0;32m   1658\u001b[0m             \u001b[38;5;124m\"\u001b[39m\u001b[38;5;124man engine manually.\u001b[39m\u001b[38;5;124m\"\u001b[39m\n\u001b[0;32m   1659\u001b[0m         )\n",
      "File \u001b[1;32m~\\anaconda3\\envs\\erdosinstitute\\Lib\\site-packages\\pandas\\io\\excel\\_base.py:1525\u001b[0m, in \u001b[0;36minspect_excel_format\u001b[1;34m(content_or_path, storage_options)\u001b[0m\n\u001b[0;32m   1522\u001b[0m \u001b[38;5;28;01mif\u001b[39;00m \u001b[38;5;28misinstance\u001b[39m(content_or_path, \u001b[38;5;28mbytes\u001b[39m):\n\u001b[0;32m   1523\u001b[0m     content_or_path \u001b[38;5;241m=\u001b[39m BytesIO(content_or_path)\n\u001b[1;32m-> 1525\u001b[0m \u001b[38;5;28;01mwith\u001b[39;00m get_handle(\n\u001b[0;32m   1526\u001b[0m     content_or_path, \u001b[38;5;124m\"\u001b[39m\u001b[38;5;124mrb\u001b[39m\u001b[38;5;124m\"\u001b[39m, storage_options\u001b[38;5;241m=\u001b[39mstorage_options, is_text\u001b[38;5;241m=\u001b[39m\u001b[38;5;28;01mFalse\u001b[39;00m\n\u001b[0;32m   1527\u001b[0m ) \u001b[38;5;28;01mas\u001b[39;00m handle:\n\u001b[0;32m   1528\u001b[0m     stream \u001b[38;5;241m=\u001b[39m handle\u001b[38;5;241m.\u001b[39mhandle\n\u001b[0;32m   1529\u001b[0m     stream\u001b[38;5;241m.\u001b[39mseek(\u001b[38;5;241m0\u001b[39m)\n",
      "File \u001b[1;32m~\\anaconda3\\envs\\erdosinstitute\\Lib\\site-packages\\pandas\\io\\common.py:865\u001b[0m, in \u001b[0;36mget_handle\u001b[1;34m(path_or_buf, mode, encoding, compression, memory_map, is_text, errors, storage_options)\u001b[0m\n\u001b[0;32m    856\u001b[0m         handle \u001b[38;5;241m=\u001b[39m \u001b[38;5;28mopen\u001b[39m(\n\u001b[0;32m    857\u001b[0m             handle,\n\u001b[0;32m    858\u001b[0m             ioargs\u001b[38;5;241m.\u001b[39mmode,\n\u001b[1;32m   (...)\u001b[0m\n\u001b[0;32m    861\u001b[0m             newline\u001b[38;5;241m=\u001b[39m\u001b[38;5;124m\"\u001b[39m\u001b[38;5;124m\"\u001b[39m,\n\u001b[0;32m    862\u001b[0m         )\n\u001b[0;32m    863\u001b[0m     \u001b[38;5;28;01melse\u001b[39;00m:\n\u001b[0;32m    864\u001b[0m         \u001b[38;5;66;03m# Binary mode\u001b[39;00m\n\u001b[1;32m--> 865\u001b[0m         handle \u001b[38;5;241m=\u001b[39m \u001b[38;5;28mopen\u001b[39m(handle, ioargs\u001b[38;5;241m.\u001b[39mmode)\n\u001b[0;32m    866\u001b[0m     handles\u001b[38;5;241m.\u001b[39mappend(handle)\n\u001b[0;32m    868\u001b[0m \u001b[38;5;66;03m# Convert BytesIO or file objects passed with an encoding\u001b[39;00m\n",
      "\u001b[1;31mFileNotFoundError\u001b[0m: [Errno 2] No such file or directory: 'State_Obese.xlsx'"
     ]
    }
   ],
   "source": [
    "df = pd.read_excel('data/Erdos project dataset 2017.xlsx')\n",
    "df_obese = pd.read_excel('State_Obese.xlsx')\n",
    "df.head()"
   ]
  },
  {
   "cell_type": "code",
   "execution_count": null,
   "id": "867b610c",
   "metadata": {},
   "outputs": [],
   "source": [
    "df_obese.head()"
   ]
  },
  {
   "cell_type": "code",
   "execution_count": null,
   "id": "b66f1bae",
   "metadata": {},
   "outputs": [],
   "source": [
    "df.shape"
   ]
  },
  {
   "cell_type": "code",
   "execution_count": null,
   "id": "fde77c2d",
   "metadata": {},
   "outputs": [],
   "source": [
    "df.dtypes"
   ]
  },
  {
   "cell_type": "code",
   "execution_count": null,
   "id": "b275ed65",
   "metadata": {},
   "outputs": [],
   "source": [
    "df.describe()"
   ]
  },
  {
   "cell_type": "code",
   "execution_count": null,
   "id": "9140f6bf",
   "metadata": {},
   "outputs": [],
   "source": [
    "missing_value = df.isnull().sum()\n",
    "missing_value"
   ]
  },
  {
   "cell_type": "code",
   "execution_count": null,
   "id": "3fea7fab",
   "metadata": {},
   "outputs": [],
   "source": [
    "erdos_columns = [\n",
    "    'State.1', 'WIC_PART_2017', 'NSLP_PART_2017', 'SBP_PART_2017',\n",
    "    'CACFP_PART_2017', 'SFSP_PART_2017', 'State_Population_2017'\n",
    "]\n",
    "df_erdos_selected = df[erdos_columns]\n",
    "\n",
    "# Merge the selected columns with the State_Obese dataset\n",
    "df_combined = pd.merge(df_erdos_selected, df_obese, left_on='State.1', right_on='State')\n",
    "\n",
    "# Drop the redundant 'State' column from the merged dataframe\n",
    "df_combined.drop(columns=['State'], inplace=True)\n",
    "\n",
    "df_combined['Number_Obese_Adults_2017'] = (df_combined['PCT_OBESE_ADULTS17'] * df_combined['State_Population_2017']) / 100\n",
    "# Save the combined dataset to a file\n",
    "output_combined_path = '/Users/sayantansarkar/Downloads/combined_state_dataset2.xlsx'\n",
    "df_combined.to_excel(output_combined_path, index=False)\n",
    "\n",
    "# Display the combined dataset\n",
    "df_combined.head()"
   ]
  },
  {
   "cell_type": "code",
   "execution_count": null,
   "id": "0fc6f492",
   "metadata": {},
   "outputs": [],
   "source": [
    "# First lets analyse the state level data "
   ]
  },
  {
   "cell_type": "code",
   "execution_count": null,
   "id": "fe262896",
   "metadata": {},
   "outputs": [],
   "source": [
    "df_state =df_combined.iloc[:51]"
   ]
  },
  {
   "cell_type": "code",
   "execution_count": null,
   "id": "8ad79284",
   "metadata": {},
   "outputs": [],
   "source": [
    "df_state.head(10)"
   ]
  },
  {
   "cell_type": "code",
   "execution_count": null,
   "id": "2ccf550c",
   "metadata": {},
   "outputs": [],
   "source": [
    "# Create a bar plot for State_Population_2017 using seaborn\n",
    "plt.figure(figsize=(10, 6))\n",
    "sns.barplot(x='State.1', y='State_Population_2017', data=df_state, errorbar=None)\n",
    "\n",
    "plt.plot(df_state['State.1'], df_state['State_Population_2017'], marker='o', color='red', linestyle='-', linewidth=2)\n",
    "plt.title('Statewise Population in 2017')\n",
    "plt.xlabel('States')\n",
    "plt.ylabel('Population')\n",
    "plt.xticks(rotation=90)\n",
    "plt.tight_layout()\n",
    "\n",
    "plt.show()"
   ]
  },
  {
   "cell_type": "code",
   "execution_count": null,
   "id": "37c92a72",
   "metadata": {},
   "outputs": [],
   "source": [
    "# Create a bar plot for State_Population_2017 and WIC_PART_2017 using seaborn\n",
    "plt.figure(figsize=(12, 8))\n",
    "\n",
    "# Create the bar plot for State_Population_2017\n",
    "sns.barplot(x='State.1', y='State_Population_2017', data=df_state, errorbar=None, color='skyblue', label='State Population 2017')\n",
    "\n",
    "# Create the bar plot for WIC_PART_2017 with an offset\n",
    "sns.barplot(x='State.1', y='WIC_PART_2017', data=df_state, errorbar=None, color='green', label='WIC Participants 2017', alpha=0.6)\n",
    "\n",
    "#Line plot\n",
    "plt.plot(df_state['State.1'], df_state['WIC_PART_2017'], marker='o', color='red', linestyle='-', linewidth=2)\n",
    "plt.title('State Population and WIC Participants in 2017')\n",
    "plt.xlabel('States')\n",
    "plt.ylabel('Values')\n",
    "plt.xticks(rotation=90)\n",
    "plt.legend(loc='upper left')\n",
    "plt.tight_layout()\n",
    "\n",
    "plt.show()"
   ]
  },
  {
   "cell_type": "code",
   "execution_count": null,
   "id": "8742c0f2",
   "metadata": {},
   "outputs": [],
   "source": [
    "# Create a bar plot for State_Population_2017 and WIC_PART_2017 using seaborn\n",
    "plt.figure(figsize=(12, 8))\n",
    "\n",
    "# Create the bar plot for State_Population_2017\n",
    "sns.barplot(x='State.1', y='State_Population_2017', data=df_state, errorbar=None, color='skyblue', label='State Population 2017')\n",
    "\n",
    "# Create the bar plot for WIC_PART_2017 with an offset\n",
    "sns.barplot(x='State.1', y='Number_Obese_Adults_2017', data=df_state, errorbar=None, color='green', label='Number of Obese Adults 2017', alpha=0.6)\n",
    "\n",
    "#Line plot\n",
    "plt.plot(df_state['State.1'], df_state['Number_Obese_Adults_2017'], marker='o', color='red', linestyle='-', linewidth=2)\n",
    "plt.title('State Population and Obese adults in 2017')\n",
    "plt.xlabel('States')\n",
    "plt.ylabel('Values')\n",
    "plt.xticks(rotation=90)\n",
    "plt.legend(loc='upper left')\n",
    "plt.tight_layout()\n",
    "\n",
    "plt.show()"
   ]
  },
  {
   "cell_type": "code",
   "execution_count": null,
   "id": "e7d8132e",
   "metadata": {},
   "outputs": [],
   "source": [
    "# Create a bar plot for State_Population_2017 and WIC_PART_2017 using seaborn\n",
    "plt.figure(figsize=(24,16))\n",
    "\n",
    "# Create the bar plot for State_Population_2017\n",
    "sns.barplot(x='State.1', y='State_Population_2017', data=df_state, errorbar=None, color='skyblue', label='State Population 2017')\n",
    "\n",
    "# Create the bar plot for WIC_PART_2017 with an offset\n",
    "sns.barplot(x='State.1', y='NSLP_PART_2017', data=df_state, errorbar=None, color='green', label='WIC Participants 2017', alpha=0.6)\n",
    "\n",
    "#Line plot\n",
    "plt.plot(df_state['State.1'], df_state['NSLP_PART_2017'], marker='o', color='red', linestyle='-', linewidth=2)\n",
    "plt.title('State Population and National School Lunch Program Participants in 2017')\n",
    "plt.xlabel('States')\n",
    "plt.ylabel('Values')\n",
    "plt.xticks(rotation=90)\n",
    "plt.legend(loc='upper left')\n",
    "plt.tight_layout()\n",
    "\n",
    "plt.show()"
   ]
  },
  {
   "cell_type": "code",
   "execution_count": null,
   "id": "ebf5f27f",
   "metadata": {},
   "outputs": [],
   "source": []
  },
  {
   "cell_type": "code",
   "execution_count": null,
   "id": "f5e32803",
   "metadata": {},
   "outputs": [],
   "source": [
    "selected_columns = ['Number_Obese_Adults_2017', 'WIC_PART_2017', 'NSLP_PART_2017', 'SBP_PART_2017','State_Population_2017']\n",
    "df_selected = df_state[selected_columns]\n",
    "\n",
    "# Create a pairplot\n",
    "sns.pairplot(df_selected,corner = True)\n",
    "plt.suptitle('Pairplot of Selected Variables', y=1.02)\n",
    "plt.tight_layout()\n",
    "plt.show()\n",
    "\n",
    "# Create a correlation matrix\n",
    "correlation_matrix = df_selected.corr()\n",
    "\n",
    "# Display the correlation matrix\n",
    "plt.figure(figsize=(12, 8))\n",
    "sns.heatmap(correlation_matrix, annot=True, cmap='coolwarm', linewidths=.5)\n",
    "plt.title('Correlation Matrix of Selected Variables')\n",
    "plt.tight_layout()\n",
    "plt.show()"
   ]
  },
  {
   "cell_type": "code",
   "execution_count": null,
   "id": "27467ba1",
   "metadata": {},
   "outputs": [],
   "source": [
    "# Create a series of bar plots comparing each parameter with State_Population_2017\n",
    "parameters = ['WIC_PART_2017', 'NSLP_PART_2017', 'SBP_PART_2017', 'CACFP_PART_2017', 'SFSP_PART_2017', 'Number_Obese_Adults_2017']\n",
    "colors = ['green', 'coral', 'blue', 'pink', 'yellow','red']\n",
    "\n",
    "\n",
    "\n",
    "for i, parameter in enumerate(parameters):\n",
    "#     plt.subplot(len(parameters), 1, i + 1)\n",
    "    ind = np.arange(len(df_state))\n",
    "    width = 0.55\n",
    "    plt.figure(figsize=(16, 10))\n",
    "    # Bar plot for State_Population_2017\n",
    "    plt.bar(ind, df_state['State_Population_2017'], width, label='State Population 2017', color='skyblue')\n",
    "    \n",
    "    # Bar plot for the parameter\n",
    "    plt.bar(ind + width, df_state[parameter], width, label=parameter, color=colors[i])\n",
    "    #Line plot\n",
    "    plt.plot(df_state['State.1'], df_state[parameter], marker='o', color='black', linestyle='-', linewidth=2)\n",
    "    \n",
    "    plt.title(f'State Population vs {parameter} in 2017')\n",
    "    plt.xlabel('States')\n",
    "    plt.ylabel('Values')\n",
    "    plt.xticks(ind + width / 2, df_state['State.1'],rotation=90)\n",
    "    plt.legend(loc='upper left')\n",
    "    plt.tight_layout()\n",
    "\n",
    "    plt.show()"
   ]
  },
  {
   "cell_type": "code",
   "execution_count": null,
   "id": "f098631d",
   "metadata": {},
   "outputs": [],
   "source": [
    "# Same plot but a little interactive\n",
    "colors = {\n",
    "    'WIC_PART_2017': 'green',\n",
    "    'NSLP_PART_2017': 'coral',\n",
    "    'SBP_PART_2017': 'blue',\n",
    "    'CACFP_PART_2017': 'pink',\n",
    "    'SFSP_PART_2017': 'yellow',\n",
    "    'Number_Obese_Adults_2017': 'red'\n",
    "}\n",
    "\n",
    "# Create a subplot with a row for each parameter\n",
    "parameters = ['WIC_PART_2017', 'NSLP_PART_2017', 'SBP_PART_2017', 'CACFP_PART_2017', 'SFSP_PART_2017', 'Number_Obese_Adults_2017']\n",
    "fig = make_subplots(rows=len(parameters), cols=1, subplot_titles=[f'State Population vs {param} in 2017' for param in parameters])\n",
    "\n",
    "for i, parameter in enumerate(parameters):\n",
    "    fig.add_trace(\n",
    "        go.Bar(x=df_state['State.1'], y=df_state['State_Population_2017'], name='State Population 2017', marker_color='skyblue'),\n",
    "        row=i+1, col=1\n",
    "    )\n",
    "    fig.add_trace(\n",
    "        go.Bar(x=df_state['State.1'], y=df_state[parameter], name=parameter, marker_color=colors[parameter]),\n",
    "        row=i+1, col=1\n",
    "    )\n",
    "\n",
    "# Update layout for the entire figure\n",
    "fig.update_layout(\n",
    "    height=1800,  # Adjust height for better visualization\n",
    "    title_text='Comparison of State Population with Various Parameters in 2017',\n",
    "    barmode='group',\n",
    "    hovermode='x unified'\n",
    ")\n",
    "\n",
    "# Show the plot inline\n",
    "pio.show(fig)"
   ]
  },
  {
   "cell_type": "code",
   "execution_count": null,
   "id": "463c04ff",
   "metadata": {},
   "outputs": [],
   "source": [
    "top_10_nslp = df_state.nlargest(10, 'NSLP_PART_2017')\n",
    "\n",
    "# Values and labels for the pie chart\n",
    "state_values_nslp = top_10_nslp['NSLP_PART_2017']\n",
    "state_labels_nslp = top_10_nslp['State.1']\n",
    "\n",
    "# Create the pie chart\n",
    "plt.figure(figsize=(10, 8))\n",
    "plt.pie(state_values_nslp, labels=state_labels_nslp, autopct='%1.2f%%', startangle=140)\n",
    "plt.title('Top 10 States with Most National School Lunch Program Participants in 2017')\n",
    "plt.axis('equal')  # Equal aspect ratio ensures that pie is drawn as a circle.\n",
    "# plt.tight_layout()\n",
    "plt.show()"
   ]
  },
  {
   "cell_type": "code",
   "execution_count": null,
   "id": "a6f4a167",
   "metadata": {},
   "outputs": [],
   "source": [
    "top_10_SBP = df_state.nlargest(10, 'SBP_PART_2017')\n",
    "\n",
    "# Values and labels for the pie chart\n",
    "state_values_SBP = top_10_nslp['SBP_PART_2017']\n",
    "state_labels_SBP = top_10_nslp['State.1']\n",
    "\n",
    "# Create the pie chart\n",
    "plt.figure(figsize=(10, 8))\n",
    "plt.pie(state_values_SBP, labels=state_labels_SBP, autopct='%1.2f%%', startangle=140)\n",
    "plt.title('Top 10 States with Most National School Breakfast Program Participants in 2017')\n",
    "plt.axis('equal')  # Equal aspect ratio ensures that pie is drawn as a circle.\n",
    "# plt.tight_layout()\n",
    "plt.show()"
   ]
  },
  {
   "cell_type": "code",
   "execution_count": null,
   "id": "6bac6732",
   "metadata": {},
   "outputs": [],
   "source": [
    "top_10_SFSP = df_state.nlargest(10, 'SFSP_PART_2017')\n",
    "\n",
    "# Values and labels for the pie chart\n",
    "state_values_SFSP = top_10_nslp['SFSP_PART_2017']\n",
    "state_labels_SFSP = top_10_nslp['State.1']\n",
    "\n",
    "# Create the pie chart\n",
    "plt.figure(figsize=(10, 8))\n",
    "plt.pie(state_values_SFSP, labels=state_labels_SFSP, autopct='%1.2f%%', startangle=140)\n",
    "plt.title('Top 10 States with Most Summer Food Service Program Participants in 2017')\n",
    "plt.axis('equal')  # Equal aspect ratio ensures that pie is drawn as a circle.\n",
    "# plt.tight_layout()\n",
    "plt.show()"
   ]
  },
  {
   "cell_type": "code",
   "execution_count": null,
   "id": "cb71e222",
   "metadata": {},
   "outputs": [],
   "source": [
    "top_10_Obese = df_state.nlargest(10, 'Number_Obese_Adults_2017')\n",
    "\n",
    "# Values and labels for the pie chart\n",
    "state_values_Obese = top_10_nslp['Number_Obese_Adults_2017']\n",
    "state_labels_Obese = top_10_nslp['State.1']\n",
    "\n",
    "# Create the pie chart\n",
    "plt.figure(figsize=(10, 8))\n",
    "plt.pie(state_values_Obese, labels=state_labels_Obese, autopct='%1.2f%%', startangle=140)\n",
    "plt.title('Top 10 States with Most Obese Adults in 2017')\n",
    "plt.axis('equal')  # Equal aspect ratio ensures that pie is drawn as a circle.\n",
    "# plt.tight_layout()\n",
    "plt.show()"
   ]
  },
  {
   "cell_type": "code",
   "execution_count": null,
   "id": "6dede8f8",
   "metadata": {},
   "outputs": [],
   "source": []
  },
  {
   "cell_type": "code",
   "execution_count": null,
   "id": "5afb1710",
   "metadata": {},
   "outputs": [],
   "source": []
  }
 ],
 "metadata": {
  "kernelspec": {
   "display_name": "Python 3 (ipykernel)",
   "language": "python",
   "name": "python3"
  },
  "language_info": {
   "codemirror_mode": {
    "name": "ipython",
    "version": 3
   },
   "file_extension": ".py",
   "mimetype": "text/x-python",
   "name": "python",
   "nbconvert_exporter": "python",
   "pygments_lexer": "ipython3",
   "version": "3.11.9"
  }
 },
 "nbformat": 4,
 "nbformat_minor": 5
}
