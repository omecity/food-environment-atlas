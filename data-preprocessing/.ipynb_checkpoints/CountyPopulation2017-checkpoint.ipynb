{
 "cells": [
  {
   "cell_type": "markdown",
   "id": "d5be47a4-b969-4c5f-8cc6-e9299972754f",
   "metadata": {},
   "source": [
    "## U.S. Census Bureau county population estimates\n",
    "\n",
    "[Population estimates for all counties in 2017, from U.S. Census Bureau](https://www2.census.gov/programs-surveys/popest/datasets/2010-2017/counties/totals/)"
   ]
  },
  {
   "cell_type": "code",
   "execution_count": 1,
   "id": "da9e5bae-6765-4e88-81c4-9ef7cd5f57cf",
   "metadata": {},
   "outputs": [],
   "source": [
    "import numpy as np\n",
    "import pandas as pd\n",
    "import matplotlib.pyplot as plt\n",
    "\n",
    "import seaborn as sns\n",
    "sns.set_style('whitegrid')"
   ]
  },
  {
   "cell_type": "code",
   "execution_count": 1,
   "id": "3ed182fc-a1b8-485f-b5cb-9101a5366c22",
   "metadata": {},
   "outputs": [
    {
     "ename": "NameError",
     "evalue": "name 'pd' is not defined",
     "output_type": "error",
     "traceback": [
      "\u001b[1;31m---------------------------------------------------------------------------\u001b[0m",
      "\u001b[1;31mNameError\u001b[0m                                 Traceback (most recent call last)",
      "Cell \u001b[1;32mIn[1], line 1\u001b[0m\n\u001b[1;32m----> 1\u001b[0m county_data \u001b[38;5;241m=\u001b[39m pd\u001b[38;5;241m.\u001b[39mread_csv(\u001b[38;5;124m'\u001b[39m\u001b[38;5;124m../data/census_population_estimates_2017\u001b[39m\u001b[38;5;124m'\u001b[39m,encoding\u001b[38;5;241m=\u001b[39m\u001b[38;5;124m'\u001b[39m\u001b[38;5;124mlatin1\u001b[39m\u001b[38;5;124m'\u001b[39m)\n",
      "\u001b[1;31mNameError\u001b[0m: name 'pd' is not defined"
     ]
    }
   ],
   "source": [
    "county_data = pd.read_csv('../data/census_population_estimates_2017',encoding='latin1')"
   ]
  },
  {
   "cell_type": "code",
   "execution_count": 3,
   "id": "12fd6763-f8d4-4d73-999f-f5b8ea62ea20",
   "metadata": {},
   "outputs": [],
   "source": [
    "county_data = county_data[['SUMLEV','CTYNAME', 'POPESTIMATE2017']]\n",
    "county_data = county_data.loc[county_data['SUMLEV'] == 50].drop('SUMLEV',axis=1)"
   ]
  },
  {
   "cell_type": "code",
   "execution_count": 6,
   "id": "fe7069f5-e348-4747-8e02-5213296b45ce",
   "metadata": {},
   "outputs": [],
   "source": [
    "county_data = county_data.rename({'CTYNAME': 'County'},axis=1)"
   ]
  },
  {
   "cell_type": "code",
   "execution_count": 7,
   "id": "121ea3bc-ace5-4363-b667-95d2222873d2",
   "metadata": {},
   "outputs": [],
   "source": [
    "county_data.to_csv('../data/county_population_data_2017.csv')"
   ]
  },
  {
   "cell_type": "code",
   "execution_count": null,
   "id": "c37f5dc1-8d25-439b-9b84-8c11961757cd",
   "metadata": {},
   "outputs": [],
   "source": []
  }
 ],
 "metadata": {
  "kernelspec": {
   "display_name": "Python 3 (ipykernel)",
   "language": "python",
   "name": "python3"
  },
  "language_info": {
   "codemirror_mode": {
    "name": "ipython",
    "version": 3
   },
   "file_extension": ".py",
   "mimetype": "text/x-python",
   "name": "python",
   "nbconvert_exporter": "python",
   "pygments_lexer": "ipython3",
   "version": "3.11.9"
  }
 },
 "nbformat": 4,
 "nbformat_minor": 5
}
