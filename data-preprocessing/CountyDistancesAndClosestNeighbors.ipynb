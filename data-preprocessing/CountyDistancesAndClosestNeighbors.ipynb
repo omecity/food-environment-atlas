{
 "cells": [
  {
   "cell_type": "markdown",
   "id": "2e297431-09a6-4aad-b42f-bdeca024e81d",
   "metadata": {},
   "source": [
    "## Determining the 20 closest neighboring counties to each county\n",
    "\n",
    "This notebook determines the 20 closest counties to each county using the U.S. Census Bureau's Gazetteer data giving the latitude and longitude of each county's centroid. This data is stored in 'closest_neighboring_counties.csv' in the 'data' folder."
   ]
  },
  {
   "cell_type": "code",
   "execution_count": 1,
   "id": "acdc0f3b-87e9-442f-b995-a7c080b05cb0",
   "metadata": {},
   "outputs": [],
   "source": [
    "import numpy as np\n",
    "import pandas as pd\n",
    "import matplotlib.pyplot as plt\n",
    "\n",
    "import seaborn as sns\n",
    "sns.set_style('whitegrid')"
   ]
  },
  {
   "cell_type": "code",
   "execution_count": 2,
   "id": "4647b82f-d959-4e74-9bb2-2c0556768c74",
   "metadata": {},
   "outputs": [],
   "source": [
    "def spherical_distance(lat1,lon1,lat2,lon2):\n",
    "    return np.arccos(np.sin(lat1)*np.sin(lat2)+np.cos(lat1)*np.cos(lat2)*np.cos(lon2-lon1))*6371"
   ]
  },
  {
   "cell_type": "code",
   "execution_count": 3,
   "id": "71c420d3-6fa4-47e3-a5ed-fb932697bfbe",
   "metadata": {},
   "outputs": [],
   "source": [
    "county_census_data = pd.read_csv('../data/county_census_data.csv')\n",
    "num_counties = len(county_census_data)\n",
    "fips = county_census_data['FIPS'].to_list()"
   ]
  },
  {
   "cell_type": "code",
   "execution_count": null,
   "id": "449582f6-448a-4b22-bd7f-6d1f37fcce2d",
   "metadata": {},
   "outputs": [],
   "source": [
    "# Calculate spherical distances between centroids of counties\n",
    "distances = np.zeros((num_counties, num_counties))\n",
    "for i in range(num_counties):\n",
    "    for j in range(i):\n",
    "        distances[i][j] = spherical_distance(\n",
    "            county_census_data.loc[county_census_data['FIPS'] == fips[i]]['INTPTLAT'].values[0], \n",
    "            county_census_data.loc[county_census_data['FIPS'] == fips[i]]['INTPTLONG'].values[0], \n",
    "            county_census_data.loc[county_census_data['FIPS'] == fips[j]]['INTPTLAT'].values[0], \n",
    "            county_census_data.loc[county_census_data['FIPS'] == fips[j]]['INTPTLONG'].values[0])\n",
    "        distances[j][i] = distances[i][j]\n",
    "for i in range(num_counties):\n",
    "    for j in range(num_counties):\n",
    "        if np.isnan(distances[i][j]):\n",
    "            distances[i][j] = 0"
   ]
  },
  {
   "cell_type": "code",
   "execution_count": 5,
   "id": "da8f059e-e5e1-4430-9938-a34ba105df48",
   "metadata": {},
   "outputs": [],
   "source": [
    "max_neighbors = 20\n",
    "neighbor_labels = ['NEAREST_' + str(i + 1) for i in range(max_neighbors)]\n",
    "closest_neighbors = []"
   ]
  },
  {
   "cell_type": "code",
   "execution_count": 6,
   "id": "150a3a9a-78e7-484e-9145-7df49320717d",
   "metadata": {},
   "outputs": [],
   "source": [
    "# Find the 20 closest neighbors of each county\n",
    "for i in range(num_counties):\n",
    "    j = 0\n",
    "    dist = distances[i].copy()\n",
    "    closest = []\n",
    "    while j < max_neighbors:\n",
    "        k = np.argmin(dist)\n",
    "        closest.append(fips[k])\n",
    "        dist[k] = np.inf\n",
    "        j += 1\n",
    "    closest_neighbors.append(closest)"
   ]
  },
  {
   "cell_type": "code",
   "execution_count": 7,
   "id": "79d1928d-a61a-4fa1-bd01-42aba3264973",
   "metadata": {},
   "outputs": [],
   "source": [
    "# Save lists of neighboring counties to new DataFrame\n",
    "neighbors_df = pd.DataFrame(county_census_data[['FIPS', 'County']])"
   ]
  },
  {
   "cell_type": "code",
   "execution_count": 8,
   "id": "574f82db-1a92-4805-a40f-65245501ff0a",
   "metadata": {},
   "outputs": [],
   "source": [
    "for j in range(max_neighbors):\n",
    "    neighbors_df[neighbor_labels[j]] = [closest_neighbors[i][j] for i in range(num_counties)]"
   ]
  },
  {
   "cell_type": "code",
   "execution_count": 12,
   "id": "bc73e877-cb3e-4abd-8580-806517bed109",
   "metadata": {},
   "outputs": [],
   "source": [
    "neighbors_df.to_csv('../data/closest_neighboring_counties.csv',index=False)"
   ]
  },
  {
   "cell_type": "code",
   "execution_count": null,
   "id": "c559d191-00ce-4df7-a14d-6a68ff35410a",
   "metadata": {},
   "outputs": [],
   "source": [
    "# Save distances to new DataFrame\n",
    "distances_df = pd.DataFrame(county_census_data[['FIPS', 'County']]).copy()\n",
    "distance_labels = ['DISTANCE_TO_' + str(fips[i]) for i in range(num_counties)]\n",
    "\n",
    "for i in range(num_counties):\n",
    "    distances_df[distance_labels[i]] = distances[:,i]"
   ]
  },
  {
   "cell_type": "code",
   "execution_count": 14,
   "id": "5879db48-6605-475c-8ba0-066f904ad63c",
   "metadata": {},
   "outputs": [],
   "source": [
    "distances_df.to_csv('../data/county_centroid_distances.csv', index=False)"
   ]
  },
  {
   "cell_type": "code",
   "execution_count": null,
   "id": "8eadd855-92e9-4bec-91e3-2fcf5c66740e",
   "metadata": {},
   "outputs": [],
   "source": []
  }
 ],
 "metadata": {
  "kernelspec": {
   "display_name": "Python 3 (ipykernel)",
   "language": "python",
   "name": "python3"
  },
  "language_info": {
   "codemirror_mode": {
    "name": "ipython",
    "version": 3
   },
   "file_extension": ".py",
   "mimetype": "text/x-python",
   "name": "python",
   "nbconvert_exporter": "python",
   "pygments_lexer": "ipython3",
   "version": "3.11.9"
  }
 },
 "nbformat": 4,
 "nbformat_minor": 5
}
