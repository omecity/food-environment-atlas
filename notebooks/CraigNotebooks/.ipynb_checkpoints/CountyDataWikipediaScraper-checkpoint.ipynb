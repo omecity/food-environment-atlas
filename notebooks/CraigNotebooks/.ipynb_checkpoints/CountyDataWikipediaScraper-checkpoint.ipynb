{
 "cells": [
  {
   "cell_type": "code",
   "execution_count": 5,
   "id": "7150cf34-a689-40d1-ba09-73ad096ac267",
   "metadata": {},
   "outputs": [],
   "source": [
    "from bs4 import BeautifulSoup\n",
    "import requests \n",
    "\n",
    "import pandas as pd"
   ]
  },
  {
   "cell_type": "code",
   "execution_count": 6,
   "id": "1c4efb9f-6e0a-4822-864c-8c39e83a5987",
   "metadata": {},
   "outputs": [],
   "source": [
    "response = requests.get(url=\"https://en.wikipedia.org/wiki/User:Michael_J/County_table\")"
   ]
  },
  {
   "cell_type": "code",
   "execution_count": 7,
   "id": "95426912-6b0f-451d-b23d-6340784e31bf",
   "metadata": {},
   "outputs": [
    {
     "data": {
      "text/plain": [
       "200"
      ]
     },
     "execution_count": 7,
     "metadata": {},
     "output_type": "execute_result"
    }
   ],
   "source": [
    "response.status_code"
   ]
  },
  {
   "cell_type": "code",
   "execution_count": 8,
   "id": "7262cdbe-294f-42a3-b7e3-a6a6b0fe0bb9",
   "metadata": {},
   "outputs": [],
   "source": [
    "soup = BeautifulSoup(response.text, 'html.parser')"
   ]
  },
  {
   "cell_type": "code",
   "execution_count": 11,
   "id": "a68c380f-cee2-4521-97c0-3a40829e410e",
   "metadata": {},
   "outputs": [],
   "source": [
    "table = soup.find_all('table')[0]"
   ]
  },
  {
   "cell_type": "code",
   "execution_count": 92,
   "id": "5c61f165-56ef-4186-b906-c6516991301d",
   "metadata": {},
   "outputs": [],
   "source": [
    "FIPS = [] # column 2\n",
    "county = [] # column 3\n",
    "population = [] # column 5\n",
    "area = [] # column 10, total area in km^2\n",
    "latitude = [] # column 12\n",
    "longitude = [] # column 13"
   ]
  },
  {
   "cell_type": "code",
   "execution_count": 93,
   "id": "7bc986b2-fb92-4229-a6c5-19b1f8c7e0b6",
   "metadata": {},
   "outputs": [],
   "source": [
    "for tr in table.find_all('tr')[1:]:\n",
    "    # FIPS identifier\n",
    "    tr_fips = tr.find('td').next_sibling.next_sibling.next_sibling.next_sibling\n",
    "    FIPS.append(tr_fips.text)\n",
    "\n",
    "    # County name\n",
    "    tr_county = tr_fips.next_sibling.next_sibling\n",
    "    county.append(tr_county.text)\n",
    "\n",
    "    # Population\n",
    "    tr_population = tr_county.next_sibling.next_sibling.next_sibling.next_sibling\n",
    "    population.append(int(''.join(tr_population.text.split(','))))\n",
    "\n",
    "    # Total area in km^2\n",
    "    tr_area = tr_population.next_sibling.next_sibling.next_sibling.next_sibling.next_sibling.next_sibling.next_sibling.next_sibling.next_sibling.next_sibling\n",
    "    area.append(float(''.join(tr_area.text.split(','))))\n",
    "\n",
    "    # Latitude and longitude\n",
    "    tr_latitude = tr_area.next_sibling.next_sibling.next_sibling.next_sibling\n",
    "    latitude.append(float(tr_latitude.text.strip().strip('°').strip('+').strip('\\n')))\n",
    "    tr_longitude = tr_latitude.next_sibling.next_sibling\n",
    "    longitude.append(float(tr_longitude.text.strip().strip('°').strip('+').strip('\\n').replace('–','-')))"
   ]
  },
  {
   "cell_type": "code",
   "execution_count": 97,
   "id": "ba469cf2-143d-4da4-9fff-ff42c9416be3",
   "metadata": {},
   "outputs": [],
   "source": [
    "df = pd.DataFrame(data={'FIPS': FIPS, 'County': county, 'Population': population, 'Area (km^2)': area, 'Latitude': latitude, 'Longitude': longitude})"
   ]
  },
  {
   "cell_type": "code",
   "execution_count": 101,
   "id": "bf554cc6-1109-41d7-8b80-80ec0fdaf5aa",
   "metadata": {},
   "outputs": [],
   "source": [
    "df.to_csv('county_census_data.csv', index=False)"
   ]
  },
  {
   "cell_type": "code",
   "execution_count": null,
   "id": "f07c5ecd-64b4-4450-925a-7f90b86645d0",
   "metadata": {},
   "outputs": [],
   "source": []
  }
 ],
 "metadata": {
  "kernelspec": {
   "display_name": "Python 3 (ipykernel)",
   "language": "python",
   "name": "python3"
  },
  "language_info": {
   "codemirror_mode": {
    "name": "ipython",
    "version": 3
   },
   "file_extension": ".py",
   "mimetype": "text/x-python",
   "name": "python",
   "nbconvert_exporter": "python",
   "pygments_lexer": "ipython3",
   "version": "3.11.9"
  }
 },
 "nbformat": 4,
 "nbformat_minor": 5
}
