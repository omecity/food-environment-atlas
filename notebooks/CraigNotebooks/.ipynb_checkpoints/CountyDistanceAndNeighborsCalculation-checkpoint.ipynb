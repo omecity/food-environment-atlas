{
 "cells": [
  {
   "cell_type": "code",
   "execution_count": 1,
   "id": "acdc0f3b-87e9-442f-b995-a7c080b05cb0",
   "metadata": {},
   "outputs": [],
   "source": [
    "import numpy as np\n",
    "import pandas as pd\n",
    "import matplotlib.pyplot as plt\n",
    "\n",
    "import seaborn as sns\n",
    "sns.set_style('whitegrid')"
   ]
  },
  {
   "cell_type": "code",
   "execution_count": 2,
   "id": "4647b82f-d959-4e74-9bb2-2c0556768c74",
   "metadata": {},
   "outputs": [],
   "source": [
    "def spherical_distance(lat1,lon1,lat2,lon2):\n",
    "    return np.arccos(np.sin(lat1)*np.sin(lat2)+np.cos(lat1)*np.cos(lat2)*np.cos(lon2-lon1))*6371"
   ]
  },
  {
   "cell_type": "code",
   "execution_count": 3,
   "id": "333f9145-c447-4b97-8b69-60ff8d17cd44",
   "metadata": {},
   "outputs": [],
   "source": [
    "file = \"../../FoodEnvironmentAtlas.xls\"\n",
    "data = pd.ExcelFile(file)\n",
    "sheet_dict = {sheet_name: data.parse(sheet_name) for sheet_name in data.sheet_names}"
   ]
  },
  {
   "cell_type": "code",
   "execution_count": 4,
   "id": "71c420d3-6fa4-47e3-a5ed-fb932697bfbe",
   "metadata": {},
   "outputs": [],
   "source": [
    "county_census_data = pd.read_csv('county_census_data.csv')"
   ]
  },
  {
   "cell_type": "code",
   "execution_count": 5,
   "id": "fc53d4a1-6cf9-43cf-9a47-909d47ffb5cc",
   "metadata": {},
   "outputs": [],
   "source": [
    "access = sheet_dict['ACCESS']\n",
    "access = access.merge(right = county_census_data.copy(), how='inner')"
   ]
  },
  {
   "cell_type": "code",
   "execution_count": 6,
   "id": "845761ef-ec41-4881-b7db-8b5d1e912acc",
   "metadata": {},
   "outputs": [],
   "source": [
    "access = access.dropna()"
   ]
  },
  {
   "cell_type": "code",
   "execution_count": 37,
   "id": "fc96a93a-4154-48f5-8d16-ef9d1fee7c1d",
   "metadata": {},
   "outputs": [],
   "source": [
    "fips = access['FIPS'].to_list()\n",
    "num_counties = len(fips)"
   ]
  },
  {
   "cell_type": "code",
   "execution_count": 18,
   "id": "9f7823af-9ca2-457b-a5c2-02355c7aa7ae",
   "metadata": {},
   "outputs": [
    {
     "data": {
      "text/plain": [
       "(32.536382, -86.64449)"
      ]
     },
     "execution_count": 18,
     "metadata": {},
     "output_type": "execute_result"
    }
   ],
   "source": [
    "access.loc[access['FIPS'] == fips[0]]['Latitude'].values[0], access.loc[access['FIPS'] == fips[0]]['Longitude'].values[0]"
   ]
  },
  {
   "cell_type": "code",
   "execution_count": 24,
   "id": "44f5350b-6ca0-4692-bc36-e402919c337c",
   "metadata": {},
   "outputs": [
    {
     "data": {
      "text/plain": [
       "13160.755359446022"
      ]
     },
     "execution_count": 24,
     "metadata": {},
     "output_type": "execute_result"
    }
   ],
   "source": [
    "spherical_distance(access.loc[access['FIPS'] == fips[0]]['Latitude'].values[0],\n",
    "    access.loc[access['FIPS'] == fips[0]]['Longitude'].values[0],\n",
    "    access.loc[access['FIPS'] == fips[1]]['Latitude'].values[0],\n",
    "    access.loc[access['FIPS'] == fips[1]]['Longitude'].values[0]\n",
    ")"
   ]
  },
  {
   "cell_type": "code",
   "execution_count": null,
   "id": "449582f6-448a-4b22-bd7f-6d1f37fcce2d",
   "metadata": {},
   "outputs": [],
   "source": [
    "distances = np.zeros((num_counties, num_counties))\n",
    "for i in range(num_counties):\n",
    "    for j in range(num_counties):\n",
    "        distances[i][j] = spherical_distance(\n",
    "            access.loc[access['FIPS'] == fips[i]]['Latitude'].values[0], \n",
    "            access.loc[access['FIPS'] == fips[i]]['Longitude'].values[0], \n",
    "            access.loc[access['FIPS'] == fips[j]]['Latitude'].values[0], \n",
    "            access.loc[access['FIPS'] == fips[j]]['Longitude'].values[0])\n",
    "    print(i)"
   ]
  },
  {
   "cell_type": "code",
   "execution_count": 70,
   "id": "7664c132-3bab-464e-910c-2f22adc30e24",
   "metadata": {},
   "outputs": [
    {
     "data": {
      "text/plain": [
       "array([], shape=(0, 3029, 3029), dtype=float64)"
      ]
     },
     "execution_count": 70,
     "metadata": {},
     "output_type": "execute_result"
    }
   ],
   "source": [
    "distances[type(distances) is float]"
   ]
  },
  {
   "cell_type": "code",
   "execution_count": 86,
   "id": "a8255a1a-dba6-4d0d-8e2c-7619550ebb7e",
   "metadata": {},
   "outputs": [
    {
     "data": {
      "text/plain": [
       "False"
      ]
     },
     "execution_count": 86,
     "metadata": {},
     "output_type": "execute_result"
    }
   ],
   "source": [
    "np.isnan(distances[0][0])"
   ]
  },
  {
   "cell_type": "code",
   "execution_count": 91,
   "id": "f50f9fda-9f9d-4820-8e62-74edf16ec371",
   "metadata": {},
   "outputs": [],
   "source": [
    "distances_rounded = np.zeros((num_counties, num_counties))\n",
    "for i in range(num_counties):\n",
    "    for j in range(num_counties):\n",
    "        if np.isnan(distances[i][j]):\n",
    "            distances_rounded[i][j] = 0\n",
    "        else:\n",
    "            distances_rounded[i][j] = int(distances[i][j])"
   ]
  },
  {
   "cell_type": "code",
   "execution_count": 92,
   "id": "f073fd4c-837b-4ee5-81b7-0a9dc3cf8d7b",
   "metadata": {},
   "outputs": [
    {
     "data": {
      "text/plain": [
       "array([    0., 13160.,  6502., ..., 13509., 12210.,  9127.])"
      ]
     },
     "execution_count": 92,
     "metadata": {},
     "output_type": "execute_result"
    }
   ],
   "source": [
    "distances_rounded[0]"
   ]
  },
  {
   "cell_type": "code",
   "execution_count": 122,
   "id": "da8f059e-e5e1-4430-9938-a34ba105df48",
   "metadata": {},
   "outputs": [],
   "source": [
    "max_neighbors = 20\n",
    "neighbor_labels = ['NEAREST_' + str(i + 1) for i in range(max_neighbors)]\n",
    "closest_neighbors = []"
   ]
  },
  {
   "cell_type": "code",
   "execution_count": 123,
   "id": "150a3a9a-78e7-484e-9145-7df49320717d",
   "metadata": {},
   "outputs": [],
   "source": [
    "for i in range(num_counties):\n",
    "    j = 0\n",
    "    dist = distances_rounded[i].copy()\n",
    "    closest = []\n",
    "    while j < max_neighbors:\n",
    "        k = np.argmin(dist)\n",
    "        closest.append(fips[k])\n",
    "        dist[k] = np.inf\n",
    "        j += 1\n",
    "    closest_neighbors.append(closest)"
   ]
  },
  {
   "cell_type": "code",
   "execution_count": 125,
   "id": "79d1928d-a61a-4fa1-bd01-42aba3264973",
   "metadata": {},
   "outputs": [],
   "source": [
    "neighbors_df = pd.DataFrame(access[['FIPS', 'County']])"
   ]
  },
  {
   "cell_type": "code",
   "execution_count": 126,
   "id": "574f82db-1a92-4805-a40f-65245501ff0a",
   "metadata": {},
   "outputs": [],
   "source": [
    "for j in range(max_neighbors):\n",
    "    neighbors_df[neighbor_labels[j]] = [closest_neighbors[i][j] for i in range(num_counties)]"
   ]
  },
  {
   "cell_type": "code",
   "execution_count": 129,
   "id": "bc73e877-cb3e-4abd-8580-806517bed109",
   "metadata": {},
   "outputs": [],
   "source": [
    "neighbors_df.to_csv('closest_neighboring_counties.csv',index=False)"
   ]
  },
  {
   "cell_type": "code",
   "execution_count": null,
   "id": "c559d191-00ce-4df7-a14d-6a68ff35410a",
   "metadata": {},
   "outputs": [],
   "source": [
    "distances_df = pd.DataFrame(access[['FIPS', 'County']])\n",
    "distance_labels = ['DISTANCE_TO_' + str(fips[i]) for i in range(num_counties)]\n",
    "\n",
    "for i in range(num_counties):\n",
    "    distances_df[distance_labels[i]] = distances_rounded[:,i]"
   ]
  },
  {
   "cell_type": "code",
   "execution_count": 141,
   "id": "3904c877-0cd1-4d55-84f4-4dbe4f3f0967",
   "metadata": {},
   "outputs": [
    {
     "data": {
      "text/html": [
       "<div>\n",
       "<style scoped>\n",
       "    .dataframe tbody tr th:only-of-type {\n",
       "        vertical-align: middle;\n",
       "    }\n",
       "\n",
       "    .dataframe tbody tr th {\n",
       "        vertical-align: top;\n",
       "    }\n",
       "\n",
       "    .dataframe thead th {\n",
       "        text-align: right;\n",
       "    }\n",
       "</style>\n",
       "<table border=\"1\" class=\"dataframe\">\n",
       "  <thead>\n",
       "    <tr style=\"text-align: right;\">\n",
       "      <th></th>\n",
       "      <th>FIPS</th>\n",
       "      <th>County</th>\n",
       "      <th>DISTANCE_TO_1001</th>\n",
       "      <th>DISTANCE_TO_1003</th>\n",
       "      <th>DISTANCE_TO_1005</th>\n",
       "      <th>DISTANCE_TO_1007</th>\n",
       "      <th>DISTANCE_TO_1009</th>\n",
       "      <th>DISTANCE_TO_1011</th>\n",
       "      <th>DISTANCE_TO_1013</th>\n",
       "      <th>DISTANCE_TO_1015</th>\n",
       "      <th>...</th>\n",
       "      <th>DISTANCE_TO_56027</th>\n",
       "      <th>DISTANCE_TO_56029</th>\n",
       "      <th>DISTANCE_TO_56031</th>\n",
       "      <th>DISTANCE_TO_56033</th>\n",
       "      <th>DISTANCE_TO_56035</th>\n",
       "      <th>DISTANCE_TO_56037</th>\n",
       "      <th>DISTANCE_TO_56039</th>\n",
       "      <th>DISTANCE_TO_56041</th>\n",
       "      <th>DISTANCE_TO_56043</th>\n",
       "      <th>DISTANCE_TO_56045</th>\n",
       "    </tr>\n",
       "  </thead>\n",
       "  <tbody>\n",
       "    <tr>\n",
       "      <th>0</th>\n",
       "      <td>1001</td>\n",
       "      <td>Autauga</td>\n",
       "      <td>0.0</td>\n",
       "      <td>13160.0</td>\n",
       "      <td>6502.0</td>\n",
       "      <td>3034.0</td>\n",
       "      <td>9174.0</td>\n",
       "      <td>4385.0</td>\n",
       "      <td>5002.0</td>\n",
       "      <td>7193.0</td>\n",
       "      <td>...</td>\n",
       "      <td>13946.0</td>\n",
       "      <td>8587.0</td>\n",
       "      <td>18423.0</td>\n",
       "      <td>5061.0</td>\n",
       "      <td>16959.0</td>\n",
       "      <td>12418.0</td>\n",
       "      <td>8580.0</td>\n",
       "      <td>13509.0</td>\n",
       "      <td>12210.0</td>\n",
       "      <td>9127.0</td>\n",
       "    </tr>\n",
       "    <tr>\n",
       "      <th>1</th>\n",
       "      <td>1003</td>\n",
       "      <td>Baldwin</td>\n",
       "      <td>13160.0</td>\n",
       "      <td>0.0</td>\n",
       "      <td>15470.0</td>\n",
       "      <td>14979.0</td>\n",
       "      <td>14176.0</td>\n",
       "      <td>14802.0</td>\n",
       "      <td>9324.0</td>\n",
       "      <td>12002.0</td>\n",
       "      <td>...</td>\n",
       "      <td>7974.0</td>\n",
       "      <td>18281.0</td>\n",
       "      <td>5308.0</td>\n",
       "      <td>10042.0</td>\n",
       "      <td>7429.0</td>\n",
       "      <td>3826.0</td>\n",
       "      <td>13523.0</td>\n",
       "      <td>4680.0</td>\n",
       "      <td>7274.0</td>\n",
       "      <td>11442.0</td>\n",
       "    </tr>\n",
       "    <tr>\n",
       "      <th>2</th>\n",
       "      <td>1005</td>\n",
       "      <td>Barbour</td>\n",
       "      <td>6502.0</td>\n",
       "      <td>15470.0</td>\n",
       "      <td>0.0</td>\n",
       "      <td>7083.0</td>\n",
       "      <td>10377.0</td>\n",
       "      <td>2220.0</td>\n",
       "      <td>7449.0</td>\n",
       "      <td>11748.0</td>\n",
       "      <td>...</td>\n",
       "      <td>8839.0</td>\n",
       "      <td>5295.0</td>\n",
       "      <td>14201.0</td>\n",
       "      <td>11488.0</td>\n",
       "      <td>11011.0</td>\n",
       "      <td>11715.0</td>\n",
       "      <td>2488.0</td>\n",
       "      <td>19877.0</td>\n",
       "      <td>17230.0</td>\n",
       "      <td>4239.0</td>\n",
       "    </tr>\n",
       "    <tr>\n",
       "      <th>3</th>\n",
       "      <td>1007</td>\n",
       "      <td>Bibb</td>\n",
       "      <td>3034.0</td>\n",
       "      <td>14979.0</td>\n",
       "      <td>7083.0</td>\n",
       "      <td>0.0</td>\n",
       "      <td>6154.0</td>\n",
       "      <td>5670.0</td>\n",
       "      <td>8036.0</td>\n",
       "      <td>4954.0</td>\n",
       "      <td>...</td>\n",
       "      <td>15877.0</td>\n",
       "      <td>6592.0</td>\n",
       "      <td>18119.0</td>\n",
       "      <td>5033.0</td>\n",
       "      <td>17611.0</td>\n",
       "      <td>15409.0</td>\n",
       "      <td>9561.0</td>\n",
       "      <td>12859.0</td>\n",
       "      <td>10643.0</td>\n",
       "      <td>10904.0</td>\n",
       "    </tr>\n",
       "    <tr>\n",
       "      <th>4</th>\n",
       "      <td>1009</td>\n",
       "      <td>Blount</td>\n",
       "      <td>9174.0</td>\n",
       "      <td>14176.0</td>\n",
       "      <td>10377.0</td>\n",
       "      <td>6154.0</td>\n",
       "      <td>0.0</td>\n",
       "      <td>10518.0</td>\n",
       "      <td>14138.0</td>\n",
       "      <td>3855.0</td>\n",
       "      <td>...</td>\n",
       "      <td>15234.0</td>\n",
       "      <td>5581.0</td>\n",
       "      <td>12070.0</td>\n",
       "      <td>7859.0</td>\n",
       "      <td>12995.0</td>\n",
       "      <td>17852.0</td>\n",
       "      <td>12170.0</td>\n",
       "      <td>9502.0</td>\n",
       "      <td>6908.0</td>\n",
       "      <td>14294.0</td>\n",
       "    </tr>\n",
       "    <tr>\n",
       "      <th>...</th>\n",
       "      <td>...</td>\n",
       "      <td>...</td>\n",
       "      <td>...</td>\n",
       "      <td>...</td>\n",
       "      <td>...</td>\n",
       "      <td>...</td>\n",
       "      <td>...</td>\n",
       "      <td>...</td>\n",
       "      <td>...</td>\n",
       "      <td>...</td>\n",
       "      <td>...</td>\n",
       "      <td>...</td>\n",
       "      <td>...</td>\n",
       "      <td>...</td>\n",
       "      <td>...</td>\n",
       "      <td>...</td>\n",
       "      <td>...</td>\n",
       "      <td>...</td>\n",
       "      <td>...</td>\n",
       "      <td>...</td>\n",
       "      <td>...</td>\n",
       "    </tr>\n",
       "    <tr>\n",
       "      <th>3059</th>\n",
       "      <td>56037</td>\n",
       "      <td>Sweetwater</td>\n",
       "      <td>12418.0</td>\n",
       "      <td>3826.0</td>\n",
       "      <td>11715.0</td>\n",
       "      <td>15409.0</td>\n",
       "      <td>17852.0</td>\n",
       "      <td>11653.0</td>\n",
       "      <td>7452.0</td>\n",
       "      <td>15429.0</td>\n",
       "      <td>...</td>\n",
       "      <td>5016.0</td>\n",
       "      <td>15973.0</td>\n",
       "      <td>6169.0</td>\n",
       "      <td>12137.0</td>\n",
       "      <td>6185.0</td>\n",
       "      <td>0.0</td>\n",
       "      <td>9706.0</td>\n",
       "      <td>8431.0</td>\n",
       "      <td>11071.0</td>\n",
       "      <td>7615.0</td>\n",
       "    </tr>\n",
       "    <tr>\n",
       "      <th>3060</th>\n",
       "      <td>56039</td>\n",
       "      <td>Teton</td>\n",
       "      <td>8580.0</td>\n",
       "      <td>13523.0</td>\n",
       "      <td>2488.0</td>\n",
       "      <td>9561.0</td>\n",
       "      <td>12170.0</td>\n",
       "      <td>4223.0</td>\n",
       "      <td>7797.0</td>\n",
       "      <td>14194.0</td>\n",
       "      <td>...</td>\n",
       "      <td>6350.0</td>\n",
       "      <td>6618.0</td>\n",
       "      <td>11840.0</td>\n",
       "      <td>13638.0</td>\n",
       "      <td>8661.0</td>\n",
       "      <td>9706.0</td>\n",
       "      <td>0.0</td>\n",
       "      <td>17606.0</td>\n",
       "      <td>18583.0</td>\n",
       "      <td>2124.0</td>\n",
       "    </tr>\n",
       "    <tr>\n",
       "      <th>3061</th>\n",
       "      <td>56041</td>\n",
       "      <td>Uinta</td>\n",
       "      <td>13509.0</td>\n",
       "      <td>4680.0</td>\n",
       "      <td>19877.0</td>\n",
       "      <td>12859.0</td>\n",
       "      <td>9502.0</td>\n",
       "      <td>17825.0</td>\n",
       "      <td>12669.0</td>\n",
       "      <td>8166.0</td>\n",
       "      <td>...</td>\n",
       "      <td>11258.0</td>\n",
       "      <td>14585.0</td>\n",
       "      <td>5853.0</td>\n",
       "      <td>8506.0</td>\n",
       "      <td>9045.0</td>\n",
       "      <td>8431.0</td>\n",
       "      <td>17606.0</td>\n",
       "      <td>0.0</td>\n",
       "      <td>2657.0</td>\n",
       "      <td>15893.0</td>\n",
       "    </tr>\n",
       "    <tr>\n",
       "      <th>3062</th>\n",
       "      <td>56043</td>\n",
       "      <td>Washakie</td>\n",
       "      <td>12210.0</td>\n",
       "      <td>7274.0</td>\n",
       "      <td>17230.0</td>\n",
       "      <td>10643.0</td>\n",
       "      <td>6908.0</td>\n",
       "      <td>16297.0</td>\n",
       "      <td>13628.0</td>\n",
       "      <td>5725.0</td>\n",
       "      <td>...</td>\n",
       "      <td>13485.0</td>\n",
       "      <td>12293.0</td>\n",
       "      <td>7731.0</td>\n",
       "      <td>7279.0</td>\n",
       "      <td>10776.0</td>\n",
       "      <td>11071.0</td>\n",
       "      <td>18583.0</td>\n",
       "      <td>2657.0</td>\n",
       "      <td>0.0</td>\n",
       "      <td>18465.0</td>\n",
       "    </tr>\n",
       "    <tr>\n",
       "      <th>3063</th>\n",
       "      <td>56045</td>\n",
       "      <td>Weston</td>\n",
       "      <td>9127.0</td>\n",
       "      <td>11442.0</td>\n",
       "      <td>4239.0</td>\n",
       "      <td>10904.0</td>\n",
       "      <td>14294.0</td>\n",
       "      <td>5236.0</td>\n",
       "      <td>6740.0</td>\n",
       "      <td>15837.0</td>\n",
       "      <td>...</td>\n",
       "      <td>5023.0</td>\n",
       "      <td>8734.0</td>\n",
       "      <td>10798.0</td>\n",
       "      <td>13819.0</td>\n",
       "      <td>7852.0</td>\n",
       "      <td>7615.0</td>\n",
       "      <td>2124.0</td>\n",
       "      <td>15893.0</td>\n",
       "      <td>18465.0</td>\n",
       "      <td>0.0</td>\n",
       "    </tr>\n",
       "  </tbody>\n",
       "</table>\n",
       "<p>3029 rows × 3031 columns</p>\n",
       "</div>"
      ],
      "text/plain": [
       "       FIPS      County  DISTANCE_TO_1001  DISTANCE_TO_1003  DISTANCE_TO_1005  \\\n",
       "0      1001     Autauga               0.0           13160.0            6502.0   \n",
       "1      1003     Baldwin           13160.0               0.0           15470.0   \n",
       "2      1005     Barbour            6502.0           15470.0               0.0   \n",
       "3      1007        Bibb            3034.0           14979.0            7083.0   \n",
       "4      1009      Blount            9174.0           14176.0           10377.0   \n",
       "...     ...         ...               ...               ...               ...   \n",
       "3059  56037  Sweetwater           12418.0            3826.0           11715.0   \n",
       "3060  56039       Teton            8580.0           13523.0            2488.0   \n",
       "3061  56041       Uinta           13509.0            4680.0           19877.0   \n",
       "3062  56043    Washakie           12210.0            7274.0           17230.0   \n",
       "3063  56045      Weston            9127.0           11442.0            4239.0   \n",
       "\n",
       "      DISTANCE_TO_1007  DISTANCE_TO_1009  DISTANCE_TO_1011  DISTANCE_TO_1013  \\\n",
       "0               3034.0            9174.0            4385.0            5002.0   \n",
       "1              14979.0           14176.0           14802.0            9324.0   \n",
       "2               7083.0           10377.0            2220.0            7449.0   \n",
       "3                  0.0            6154.0            5670.0            8036.0   \n",
       "4               6154.0               0.0           10518.0           14138.0   \n",
       "...                ...               ...               ...               ...   \n",
       "3059           15409.0           17852.0           11653.0            7452.0   \n",
       "3060            9561.0           12170.0            4223.0            7797.0   \n",
       "3061           12859.0            9502.0           17825.0           12669.0   \n",
       "3062           10643.0            6908.0           16297.0           13628.0   \n",
       "3063           10904.0           14294.0            5236.0            6740.0   \n",
       "\n",
       "      DISTANCE_TO_1015  ...  DISTANCE_TO_56027  DISTANCE_TO_56029  \\\n",
       "0               7193.0  ...            13946.0             8587.0   \n",
       "1              12002.0  ...             7974.0            18281.0   \n",
       "2              11748.0  ...             8839.0             5295.0   \n",
       "3               4954.0  ...            15877.0             6592.0   \n",
       "4               3855.0  ...            15234.0             5581.0   \n",
       "...                ...  ...                ...                ...   \n",
       "3059           15429.0  ...             5016.0            15973.0   \n",
       "3060           14194.0  ...             6350.0             6618.0   \n",
       "3061            8166.0  ...            11258.0            14585.0   \n",
       "3062            5725.0  ...            13485.0            12293.0   \n",
       "3063           15837.0  ...             5023.0             8734.0   \n",
       "\n",
       "      DISTANCE_TO_56031  DISTANCE_TO_56033  DISTANCE_TO_56035  \\\n",
       "0               18423.0             5061.0            16959.0   \n",
       "1                5308.0            10042.0             7429.0   \n",
       "2               14201.0            11488.0            11011.0   \n",
       "3               18119.0             5033.0            17611.0   \n",
       "4               12070.0             7859.0            12995.0   \n",
       "...                 ...                ...                ...   \n",
       "3059             6169.0            12137.0             6185.0   \n",
       "3060            11840.0            13638.0             8661.0   \n",
       "3061             5853.0             8506.0             9045.0   \n",
       "3062             7731.0             7279.0            10776.0   \n",
       "3063            10798.0            13819.0             7852.0   \n",
       "\n",
       "      DISTANCE_TO_56037  DISTANCE_TO_56039  DISTANCE_TO_56041  \\\n",
       "0               12418.0             8580.0            13509.0   \n",
       "1                3826.0            13523.0             4680.0   \n",
       "2               11715.0             2488.0            19877.0   \n",
       "3               15409.0             9561.0            12859.0   \n",
       "4               17852.0            12170.0             9502.0   \n",
       "...                 ...                ...                ...   \n",
       "3059                0.0             9706.0             8431.0   \n",
       "3060             9706.0                0.0            17606.0   \n",
       "3061             8431.0            17606.0                0.0   \n",
       "3062            11071.0            18583.0             2657.0   \n",
       "3063             7615.0             2124.0            15893.0   \n",
       "\n",
       "      DISTANCE_TO_56043  DISTANCE_TO_56045  \n",
       "0               12210.0             9127.0  \n",
       "1                7274.0            11442.0  \n",
       "2               17230.0             4239.0  \n",
       "3               10643.0            10904.0  \n",
       "4                6908.0            14294.0  \n",
       "...                 ...                ...  \n",
       "3059            11071.0             7615.0  \n",
       "3060            18583.0             2124.0  \n",
       "3061             2657.0            15893.0  \n",
       "3062                0.0            18465.0  \n",
       "3063            18465.0                0.0  \n",
       "\n",
       "[3029 rows x 3031 columns]"
      ]
     },
     "execution_count": 141,
     "metadata": {},
     "output_type": "execute_result"
    }
   ],
   "source": [
    "distances_df"
   ]
  },
  {
   "cell_type": "code",
   "execution_count": 142,
   "id": "5879db48-6605-475c-8ba0-066f904ad63c",
   "metadata": {},
   "outputs": [],
   "source": [
    "distances_df.to_csv('county_centroid_distances.csv', index=False)"
   ]
  },
  {
   "cell_type": "code",
   "execution_count": null,
   "id": "8eadd855-92e9-4bec-91e3-2fcf5c66740e",
   "metadata": {},
   "outputs": [],
   "source": []
  }
 ],
 "metadata": {
  "kernelspec": {
   "display_name": "Python 3 (ipykernel)",
   "language": "python",
   "name": "python3"
  },
  "language_info": {
   "codemirror_mode": {
    "name": "ipython",
    "version": 3
   },
   "file_extension": ".py",
   "mimetype": "text/x-python",
   "name": "python",
   "nbconvert_exporter": "python",
   "pygments_lexer": "ipython3",
   "version": "3.11.9"
  }
 },
 "nbformat": 4,
 "nbformat_minor": 5
}
